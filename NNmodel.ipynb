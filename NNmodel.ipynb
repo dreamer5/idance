{
  "nbformat": 4,
  "nbformat_minor": 0,
  "metadata": {
    "colab": {
      "provenance": [],
      "collapsed_sections": [
        "XzaZIsI84Q-T"
      ]
    },
    "kernelspec": {
      "name": "python3",
      "display_name": "Python 3"
    },
    "language_info": {
      "name": "python"
    }
  },
  "cells": [
    {
      "cell_type": "code",
      "source": [
        "!pip install mediapipe"
      ],
      "metadata": {
        "id": "tmwZVgAcHKtl",
        "colab": {
          "base_uri": "https://localhost:8080/"
        },
        "outputId": "268af9af-fb7d-4d52-a682-d248ba756a32"
      },
      "execution_count": 1,
      "outputs": [
        {
          "output_type": "stream",
          "name": "stdout",
          "text": [
            "Collecting mediapipe\n",
            "  Downloading mediapipe-0.10.11-cp310-cp310-manylinux_2_17_x86_64.manylinux2014_x86_64.whl (35.6 MB)\n",
            "\u001b[2K     \u001b[90m━━━━━━━━━━━━━━━━━━━━━━━━━━━━━━━━━━━━━━━━\u001b[0m \u001b[32m35.6/35.6 MB\u001b[0m \u001b[31m28.5 MB/s\u001b[0m eta \u001b[36m0:00:00\u001b[0m\n",
            "\u001b[?25hRequirement already satisfied: absl-py in /usr/local/lib/python3.10/dist-packages (from mediapipe) (1.4.0)\n",
            "Requirement already satisfied: attrs>=19.1.0 in /usr/local/lib/python3.10/dist-packages (from mediapipe) (23.2.0)\n",
            "Requirement already satisfied: flatbuffers>=2.0 in /usr/local/lib/python3.10/dist-packages (from mediapipe) (24.3.7)\n",
            "Requirement already satisfied: jax in /usr/local/lib/python3.10/dist-packages (from mediapipe) (0.4.23)\n",
            "Requirement already satisfied: jaxlib in /usr/local/lib/python3.10/dist-packages (from mediapipe) (0.4.23+cuda12.cudnn89)\n",
            "Requirement already satisfied: matplotlib in /usr/local/lib/python3.10/dist-packages (from mediapipe) (3.7.1)\n",
            "Requirement already satisfied: numpy in /usr/local/lib/python3.10/dist-packages (from mediapipe) (1.25.2)\n",
            "Requirement already satisfied: torch in /usr/local/lib/python3.10/dist-packages (from mediapipe) (2.2.1+cu121)\n",
            "Requirement already satisfied: opencv-contrib-python in /usr/local/lib/python3.10/dist-packages (from mediapipe) (4.8.0.76)\n",
            "Requirement already satisfied: protobuf<4,>=3.11 in /usr/local/lib/python3.10/dist-packages (from mediapipe) (3.20.3)\n",
            "Collecting sounddevice>=0.4.4 (from mediapipe)\n",
            "  Downloading sounddevice-0.4.6-py3-none-any.whl (31 kB)\n",
            "Requirement already satisfied: CFFI>=1.0 in /usr/local/lib/python3.10/dist-packages (from sounddevice>=0.4.4->mediapipe) (1.16.0)\n",
            "Requirement already satisfied: ml-dtypes>=0.2.0 in /usr/local/lib/python3.10/dist-packages (from jax->mediapipe) (0.2.0)\n",
            "Requirement already satisfied: opt-einsum in /usr/local/lib/python3.10/dist-packages (from jax->mediapipe) (3.3.0)\n",
            "Requirement already satisfied: scipy>=1.9 in /usr/local/lib/python3.10/dist-packages (from jax->mediapipe) (1.11.4)\n",
            "Requirement already satisfied: contourpy>=1.0.1 in /usr/local/lib/python3.10/dist-packages (from matplotlib->mediapipe) (1.2.0)\n",
            "Requirement already satisfied: cycler>=0.10 in /usr/local/lib/python3.10/dist-packages (from matplotlib->mediapipe) (0.12.1)\n",
            "Requirement already satisfied: fonttools>=4.22.0 in /usr/local/lib/python3.10/dist-packages (from matplotlib->mediapipe) (4.49.0)\n",
            "Requirement already satisfied: kiwisolver>=1.0.1 in /usr/local/lib/python3.10/dist-packages (from matplotlib->mediapipe) (1.4.5)\n",
            "Requirement already satisfied: packaging>=20.0 in /usr/local/lib/python3.10/dist-packages (from matplotlib->mediapipe) (24.0)\n",
            "Requirement already satisfied: pillow>=6.2.0 in /usr/local/lib/python3.10/dist-packages (from matplotlib->mediapipe) (9.4.0)\n",
            "Requirement already satisfied: pyparsing>=2.3.1 in /usr/local/lib/python3.10/dist-packages (from matplotlib->mediapipe) (3.1.2)\n",
            "Requirement already satisfied: python-dateutil>=2.7 in /usr/local/lib/python3.10/dist-packages (from matplotlib->mediapipe) (2.8.2)\n",
            "Requirement already satisfied: filelock in /usr/local/lib/python3.10/dist-packages (from torch->mediapipe) (3.13.1)\n",
            "Requirement already satisfied: typing-extensions>=4.8.0 in /usr/local/lib/python3.10/dist-packages (from torch->mediapipe) (4.10.0)\n",
            "Requirement already satisfied: sympy in /usr/local/lib/python3.10/dist-packages (from torch->mediapipe) (1.12)\n",
            "Requirement already satisfied: networkx in /usr/local/lib/python3.10/dist-packages (from torch->mediapipe) (3.2.1)\n",
            "Requirement already satisfied: jinja2 in /usr/local/lib/python3.10/dist-packages (from torch->mediapipe) (3.1.3)\n",
            "Requirement already satisfied: fsspec in /usr/local/lib/python3.10/dist-packages (from torch->mediapipe) (2023.6.0)\n",
            "Collecting nvidia-cuda-nvrtc-cu12==12.1.105 (from torch->mediapipe)\n",
            "  Downloading nvidia_cuda_nvrtc_cu12-12.1.105-py3-none-manylinux1_x86_64.whl (23.7 MB)\n",
            "\u001b[2K     \u001b[90m━━━━━━━━━━━━━━━━━━━━━━━━━━━━━━━━━━━━━━━━\u001b[0m \u001b[32m23.7/23.7 MB\u001b[0m \u001b[31m35.2 MB/s\u001b[0m eta \u001b[36m0:00:00\u001b[0m\n",
            "\u001b[?25hCollecting nvidia-cuda-runtime-cu12==12.1.105 (from torch->mediapipe)\n",
            "  Downloading nvidia_cuda_runtime_cu12-12.1.105-py3-none-manylinux1_x86_64.whl (823 kB)\n",
            "\u001b[2K     \u001b[90m━━━━━━━━━━━━━━━━━━━━━━━━━━━━━━━━━━━━━━━━\u001b[0m \u001b[32m823.6/823.6 kB\u001b[0m \u001b[31m47.2 MB/s\u001b[0m eta \u001b[36m0:00:00\u001b[0m\n",
            "\u001b[?25hCollecting nvidia-cuda-cupti-cu12==12.1.105 (from torch->mediapipe)\n",
            "  Downloading nvidia_cuda_cupti_cu12-12.1.105-py3-none-manylinux1_x86_64.whl (14.1 MB)\n",
            "\u001b[2K     \u001b[90m━━━━━━━━━━━━━━━━━━━━━━━━━━━━━━━━━━━━━━━━\u001b[0m \u001b[32m14.1/14.1 MB\u001b[0m \u001b[31m51.2 MB/s\u001b[0m eta \u001b[36m0:00:00\u001b[0m\n",
            "\u001b[?25hCollecting nvidia-cudnn-cu12==8.9.2.26 (from torch->mediapipe)\n",
            "  Downloading nvidia_cudnn_cu12-8.9.2.26-py3-none-manylinux1_x86_64.whl (731.7 MB)\n",
            "\u001b[2K     \u001b[90m━━━━━━━━━━━━━━━━━━━━━━━━━━━━━━━━━━━━━━━━\u001b[0m \u001b[32m731.7/731.7 MB\u001b[0m \u001b[31m1.2 MB/s\u001b[0m eta \u001b[36m0:00:00\u001b[0m\n",
            "\u001b[?25hCollecting nvidia-cublas-cu12==12.1.3.1 (from torch->mediapipe)\n",
            "  Downloading nvidia_cublas_cu12-12.1.3.1-py3-none-manylinux1_x86_64.whl (410.6 MB)\n",
            "\u001b[2K     \u001b[90m━━━━━━━━━━━━━━━━━━━━━━━━━━━━━━━━━━━━━━━━\u001b[0m \u001b[32m410.6/410.6 MB\u001b[0m \u001b[31m2.3 MB/s\u001b[0m eta \u001b[36m0:00:00\u001b[0m\n",
            "\u001b[?25hCollecting nvidia-cufft-cu12==11.0.2.54 (from torch->mediapipe)\n",
            "  Downloading nvidia_cufft_cu12-11.0.2.54-py3-none-manylinux1_x86_64.whl (121.6 MB)\n",
            "\u001b[2K     \u001b[90m━━━━━━━━━━━━━━━━━━━━━━━━━━━━━━━━━━━━━━━━\u001b[0m \u001b[32m121.6/121.6 MB\u001b[0m \u001b[31m8.3 MB/s\u001b[0m eta \u001b[36m0:00:00\u001b[0m\n",
            "\u001b[?25hCollecting nvidia-curand-cu12==10.3.2.106 (from torch->mediapipe)\n",
            "  Downloading nvidia_curand_cu12-10.3.2.106-py3-none-manylinux1_x86_64.whl (56.5 MB)\n",
            "\u001b[2K     \u001b[90m━━━━━━━━━━━━━━━━━━━━━━━━━━━━━━━━━━━━━━━━\u001b[0m \u001b[32m56.5/56.5 MB\u001b[0m \u001b[31m11.8 MB/s\u001b[0m eta \u001b[36m0:00:00\u001b[0m\n",
            "\u001b[?25hCollecting nvidia-cusolver-cu12==11.4.5.107 (from torch->mediapipe)\n",
            "  Downloading nvidia_cusolver_cu12-11.4.5.107-py3-none-manylinux1_x86_64.whl (124.2 MB)\n",
            "\u001b[2K     \u001b[90m━━━━━━━━━━━━━━━━━━━━━━━━━━━━━━━━━━━━━━━━\u001b[0m \u001b[32m124.2/124.2 MB\u001b[0m \u001b[31m7.3 MB/s\u001b[0m eta \u001b[36m0:00:00\u001b[0m\n",
            "\u001b[?25hCollecting nvidia-cusparse-cu12==12.1.0.106 (from torch->mediapipe)\n",
            "  Downloading nvidia_cusparse_cu12-12.1.0.106-py3-none-manylinux1_x86_64.whl (196.0 MB)\n",
            "\u001b[2K     \u001b[90m━━━━━━━━━━━━━━━━━━━━━━━━━━━━━━━━━━━━━━━━\u001b[0m \u001b[32m196.0/196.0 MB\u001b[0m \u001b[31m2.7 MB/s\u001b[0m eta \u001b[36m0:00:00\u001b[0m\n",
            "\u001b[?25hCollecting nvidia-nccl-cu12==2.19.3 (from torch->mediapipe)\n",
            "  Downloading nvidia_nccl_cu12-2.19.3-py3-none-manylinux1_x86_64.whl (166.0 MB)\n",
            "\u001b[2K     \u001b[90m━━━━━━━━━━━━━━━━━━━━━━━━━━━━━━━━━━━━━━━━\u001b[0m \u001b[32m166.0/166.0 MB\u001b[0m \u001b[31m4.6 MB/s\u001b[0m eta \u001b[36m0:00:00\u001b[0m\n",
            "\u001b[?25hCollecting nvidia-nvtx-cu12==12.1.105 (from torch->mediapipe)\n",
            "  Downloading nvidia_nvtx_cu12-12.1.105-py3-none-manylinux1_x86_64.whl (99 kB)\n",
            "\u001b[2K     \u001b[90m━━━━━━━━━━━━━━━━━━━━━━━━━━━━━━━━━━━━━━━━\u001b[0m \u001b[32m99.1/99.1 kB\u001b[0m \u001b[31m9.7 MB/s\u001b[0m eta \u001b[36m0:00:00\u001b[0m\n",
            "\u001b[?25hRequirement already satisfied: triton==2.2.0 in /usr/local/lib/python3.10/dist-packages (from torch->mediapipe) (2.2.0)\n",
            "Collecting nvidia-nvjitlink-cu12 (from nvidia-cusolver-cu12==11.4.5.107->torch->mediapipe)\n",
            "  Downloading nvidia_nvjitlink_cu12-12.4.99-py3-none-manylinux2014_x86_64.whl (21.1 MB)\n",
            "\u001b[2K     \u001b[90m━━━━━━━━━━━━━━━━━━━━━━━━━━━━━━━━━━━━━━━━\u001b[0m \u001b[32m21.1/21.1 MB\u001b[0m \u001b[31m59.9 MB/s\u001b[0m eta \u001b[36m0:00:00\u001b[0m\n",
            "\u001b[?25hRequirement already satisfied: pycparser in /usr/local/lib/python3.10/dist-packages (from CFFI>=1.0->sounddevice>=0.4.4->mediapipe) (2.21)\n",
            "Requirement already satisfied: six>=1.5 in /usr/local/lib/python3.10/dist-packages (from python-dateutil>=2.7->matplotlib->mediapipe) (1.16.0)\n",
            "Requirement already satisfied: MarkupSafe>=2.0 in /usr/local/lib/python3.10/dist-packages (from jinja2->torch->mediapipe) (2.1.5)\n",
            "Requirement already satisfied: mpmath>=0.19 in /usr/local/lib/python3.10/dist-packages (from sympy->torch->mediapipe) (1.3.0)\n",
            "Installing collected packages: nvidia-nvtx-cu12, nvidia-nvjitlink-cu12, nvidia-nccl-cu12, nvidia-curand-cu12, nvidia-cufft-cu12, nvidia-cuda-runtime-cu12, nvidia-cuda-nvrtc-cu12, nvidia-cuda-cupti-cu12, nvidia-cublas-cu12, sounddevice, nvidia-cusparse-cu12, nvidia-cudnn-cu12, nvidia-cusolver-cu12, mediapipe\n",
            "Successfully installed mediapipe-0.10.11 nvidia-cublas-cu12-12.1.3.1 nvidia-cuda-cupti-cu12-12.1.105 nvidia-cuda-nvrtc-cu12-12.1.105 nvidia-cuda-runtime-cu12-12.1.105 nvidia-cudnn-cu12-8.9.2.26 nvidia-cufft-cu12-11.0.2.54 nvidia-curand-cu12-10.3.2.106 nvidia-cusolver-cu12-11.4.5.107 nvidia-cusparse-cu12-12.1.0.106 nvidia-nccl-cu12-2.19.3 nvidia-nvjitlink-cu12-12.4.99 nvidia-nvtx-cu12-12.1.105 sounddevice-0.4.6\n"
          ]
        }
      ]
    },
    {
      "cell_type": "code",
      "source": [
        "import cv2\n",
        "from google.colab.patches import cv2_imshow\n",
        "import math\n",
        "import numpy as np\n",
        "import mediapipe as mp\n",
        "import tensorflow as tf\n",
        "mp_pose=mp.solutions.pose"
      ],
      "metadata": {
        "id": "BLGZ1WnlHSWQ"
      },
      "execution_count": 2,
      "outputs": []
    },
    {
      "cell_type": "code",
      "source": [
        "from google.colab import drive\n",
        "drive.mount('/content/drive')"
      ],
      "metadata": {
        "colab": {
          "base_uri": "https://localhost:8080/"
        },
        "id": "3kFZpOYoHJAv",
        "outputId": "62fc00a0-11b7-41b5-9946-e68b85540154"
      },
      "execution_count": 3,
      "outputs": [
        {
          "output_type": "stream",
          "name": "stdout",
          "text": [
            "Mounted at /content/drive\n"
          ]
        }
      ]
    },
    {
      "cell_type": "code",
      "source": [
        "from pathlib import Path"
      ],
      "metadata": {
        "id": "uv9St4qQUjep"
      },
      "execution_count": 4,
      "outputs": []
    },
    {
      "cell_type": "markdown",
      "source": [
        "#Calculate Angles"
      ],
      "metadata": {
        "id": "9xn608JX7Ls6"
      }
    },
    {
      "cell_type": "code",
      "source": [
        "def calculate_angle(a,b,c):\n",
        "    a = np.array(a) # First\n",
        "    b = np.array(b) # Mid\n",
        "    c = np.array(c) # End\n",
        "\n",
        "    radians = np.arctan2(c[1]-b[1], c[0]-b[0]) - np.arctan2(a[1]-b[1], a[0]-b[0])\n",
        "    angle = np.abs(radians*180.0/np.pi)\n",
        "\n",
        "    if angle >180.0:\n",
        "        angle = 360-angle\n",
        "\n",
        "    return angle"
      ],
      "metadata": {
        "id": "d1M77P_Ye11N"
      },
      "execution_count": 5,
      "outputs": []
    },
    {
      "cell_type": "code",
      "source": [
        "def calc_angle_four_points(a, b, c, d):\n",
        "\n",
        "  a = np.array(a)\n",
        "  b = np.array(b)\n",
        "  c = np.array(c)\n",
        "  d = np.array(d)\n",
        "\n",
        "  e = a-b\n",
        "  f = c-d\n",
        "\n",
        "  cos_angle = (e[0]*f[0]+e[1]*f[1])/(((e[0]**2+e[1]**2)**0.5)*(f[0]**2+f[1]**2)**0.5)\n",
        "  angle = np.arccos(cos_angle)*180/np.pi\n",
        "  return angle"
      ],
      "metadata": {
        "id": "tmsevbv8fH18"
      },
      "execution_count": 6,
      "outputs": []
    },
    {
      "cell_type": "code",
      "source": [
        "def calculate_slope(pointA,pointB, direction):\n",
        "  if(direction=='vertical'):\n",
        "    return 90- np.arctan((pointA[1]-pointB[1])/(pointA[0]-pointB[0]))*180/np.pi\n",
        "  return np.arctan((pointA[1]-pointB[1])/(pointA[0]-pointB[0]))*180/np.pi"
      ],
      "metadata": {
        "id": "LldNcsiTffAk"
      },
      "execution_count": 7,
      "outputs": []
    },
    {
      "cell_type": "markdown",
      "source": [
        "#Train"
      ],
      "metadata": {
        "id": "8BdCW3coiWKE"
      }
    },
    {
      "cell_type": "code",
      "source": [
        "image_path = []\n",
        "left_knee_ang = []\n",
        "right_knee_ang = []\n",
        "legs_ang = []\n",
        "#body_ang = []\n",
        "#right_elbow_ang = []\n",
        "#left_elbow_ang = []\n",
        "#right_shoulder_ang = []\n",
        "#left_shoulder_ang = []\n",
        "pose_number = []\n",
        "pose_name = []"
      ],
      "metadata": {
        "id": "lIruBUg6YePc"
      },
      "execution_count": 8,
      "outputs": []
    },
    {
      "cell_type": "code",
      "source": [
        "import os\n",
        "\n",
        "folder_path = '/content/drive/MyDrive/Blackbox/train/plie'\n",
        "new_name_prefix = 'plie'\n",
        "extension = '.jpg' # Change this to match your image file format\n",
        "\n",
        "counter = 1\n",
        "\n",
        "for filename in os.listdir(folder_path):\n",
        "  new_filename = f'{new_name_prefix}_{counter:03d}{extension}'\n",
        "  os.rename(os.path.join(folder_path, filename), os.path.join(folder_path, new_filename))\n",
        "  counter += 1\n",
        "\n",
        "from PIL import Image\n",
        "for i in range (1, counter):\n",
        "  image_name = os.path.join(folder_path, f'{new_name_prefix}_{i:03d}{extension}')\n",
        "  img = cv2.imread(image_name)\n",
        "  with mp_pose.Pose(static_image_mode=True, min_detection_confidence=0.3, model_complexity=2) as pose:\n",
        "    results = pose.process(cv2.cvtColor(img, cv2.COLOR_BGR2RGB))\n",
        "    #annotated_image = img.copy()\n",
        "    try:\n",
        "      landmarks = results.pose_landmarks.landmark\n",
        "      for landmark_name in mp_pose.PoseLandmark:\n",
        "        name = str(landmark_name).replace('PoseLandmark.', '').lower()\n",
        "        exec(f'{name} = [landmarks[landmark_name].x, landmarks[landmark_name].y, landmarks[landmark_name].z]')\n",
        "\n",
        "      user_left_knee = calculate_angle(left_hip,left_knee,left_ankle)\n",
        "      user_right_knee = calculate_angle(right_hip,right_knee,right_ankle)\n",
        "      user_legs = calc_angle_four_points(right_hip, right_knee, left_hip, left_knee)\n",
        "      #user_body = calculate_slope(right_shoulder,right_hip,\"horizontal\")\n",
        "      #user_right_elbow = calculate_angle(right_wrist, right_elbow, right_shoulder)\n",
        "      #user_left_elbow = calculate_angle(left_wrist, left_elbow, left_shoulder)\n",
        "      #user_right_shoulder = calculate_angle(right_hip, right_shoulder, right_elbow)\n",
        "      #user_left_shoulder = calc_angle_four_points(left_shoulder, left_hip, left_shoulder, left_elbow)\n",
        "    except Exception as err:\n",
        "      user_left_knee, user_right_knee, user_legs = 0, 0, 0\n",
        "\n",
        "  image_path.append(image_name)\n",
        "  left_knee_ang.append(user_left_knee)\n",
        "  right_knee_ang.append(user_right_knee)\n",
        "  legs_ang.append(user_legs)\n",
        "  #body_ang.append(user_body)\n",
        "  #right_elbow_ang.append(user_right_elbow)\n",
        "  #left_elbow_ang.append(user_left_elbow)\n",
        "  #right_shoulder_ang.append(user_right_shoulder)\n",
        "  #left_shoulder_ang.append(user_left_shoulder)\n",
        "  pose_number.append(0)\n",
        "  pose_name.append('plie')\n"
      ],
      "metadata": {
        "id": "4Y0TXcS9IoF_",
        "colab": {
          "base_uri": "https://localhost:8080/"
        },
        "outputId": "e7eb489f-d466-4dab-c681-15843438747f"
      },
      "execution_count": 9,
      "outputs": [
        {
          "output_type": "stream",
          "name": "stdout",
          "text": [
            "Downloading model to /usr/local/lib/python3.10/dist-packages/mediapipe/modules/pose_landmark/pose_landmark_heavy.tflite\n"
          ]
        }
      ]
    },
    {
      "cell_type": "code",
      "source": [
        "folder_path = '/content/drive/MyDrive/Blackbox/train/passe'\n",
        "new_name_prefix = 'passe'\n",
        "extension = '.jpg' # Change this to match your image file format\n",
        "\n",
        "counter = 1\n",
        "\n",
        "for filename in os.listdir(folder_path):\n",
        "  new_filename = f'{new_name_prefix}_{counter:03d}{extension}'\n",
        "  os.rename(os.path.join(folder_path, filename), os.path.join(folder_path, new_filename))\n",
        "  counter += 1\n",
        "\n",
        "for i in range (1, counter):\n",
        "  image_name = os.path.join(folder_path, f'{new_name_prefix}_{i:03d}{extension}')\n",
        "  img = cv2.imread(image_name)\n",
        "  with mp_pose.Pose(static_image_mode=True, min_detection_confidence=0.3, model_complexity=2) as pose:\n",
        "    results = pose.process(cv2.cvtColor(img, cv2.COLOR_BGR2RGB))\n",
        "    #annotated_image = img.copy()\n",
        "    try:\n",
        "      landmarks = results.pose_landmarks.landmark\n",
        "      for landmark_name in mp_pose.PoseLandmark:\n",
        "        name = str(landmark_name).replace('PoseLandmark.', '').lower()\n",
        "        exec(f'{name} = [landmarks[landmark_name].x, landmarks[landmark_name].y, landmarks[landmark_name].z]')\n",
        "\n",
        "      user_left_knee = calculate_angle(left_hip,left_knee,left_ankle)\n",
        "      user_right_knee = calculate_angle(right_hip,right_knee,right_ankle)\n",
        "      user_legs = calc_angle_four_points(right_hip, right_knee, left_hip, left_knee)\n",
        "      #user_body = calculate_slope(right_shoulder,right_hip,\"horizontal\")\n",
        "      #user_right_elbow = calculate_angle(right_wrist, right_elbow, right_shoulder)\n",
        "      #user_left_elbow = calculate_angle(left_wrist, left_elbow, left_shoulder)\n",
        "      #user_right_shoulder = calculate_angle(right_hip, right_shoulder, right_elbow)\n",
        "      #user_left_shoulder = calc_angle_four_points(left_shoulder, left_hip, left_shoulder, left_elbow)\n",
        "    except Exception as err:\n",
        "      user_left_knee, user_right_knee, user_legs = 0, 0, 0\n",
        "\n",
        "  image_path.append(image_name)\n",
        "  left_knee_ang.append(user_left_knee)\n",
        "  right_knee_ang.append(user_right_knee)\n",
        "  legs_ang.append(user_legs)\n",
        "  #body_ang.append(user_body)\n",
        "  #right_elbow_ang.append(user_right_elbow)\n",
        "  #left_elbow_ang.append(user_left_elbow)\n",
        "  #right_shoulder_ang.append(user_right_shoulder)\n",
        "  #left_shoulder_ang.append(user_left_shoulder)\n",
        "  pose_number.append(1)\n",
        "  pose_name.append('passe')"
      ],
      "metadata": {
        "id": "MnjRsDpVdOMc"
      },
      "execution_count": 10,
      "outputs": []
    },
    {
      "cell_type": "code",
      "source": [
        "folder_path = '/content/drive/MyDrive/Blackbox/train/arabes'\n",
        "new_name_prefix = 'arabes'\n",
        "extension = '.jpg' # Change this to match your image file format\n",
        "\n",
        "counter = 1\n",
        "\n",
        "for filename in os.listdir(folder_path):\n",
        "  new_filename = f'{new_name_prefix}_{counter:03d}{extension}'\n",
        "  os.rename(os.path.join(folder_path, filename), os.path.join(folder_path, new_filename))\n",
        "  counter += 1\n",
        "\n",
        "from PIL import Image\n",
        "for i in range (1, counter):\n",
        "  image_name = os.path.join(folder_path, f'{new_name_prefix}_{i:03d}{extension}')\n",
        "  img = cv2.imread(image_name)\n",
        "  with mp_pose.Pose(static_image_mode=True, min_detection_confidence=0.3, model_complexity=2) as pose:\n",
        "    results = pose.process(cv2.cvtColor(img, cv2.COLOR_BGR2RGB))\n",
        "    #annotated_image = img.copy()\n",
        "    try:\n",
        "      landmarks = results.pose_landmarks.landmark\n",
        "      for landmark_name in mp_pose.PoseLandmark:\n",
        "        name = str(landmark_name).replace('PoseLandmark.', '').lower()\n",
        "        exec(f'{name} = [landmarks[landmark_name].x, landmarks[landmark_name].y, landmarks[landmark_name].z]')\n",
        "\n",
        "      user_left_knee = calculate_angle(left_hip,left_knee,left_ankle)\n",
        "      user_right_knee = calculate_angle(right_hip,right_knee,right_ankle)\n",
        "      user_legs = calc_angle_four_points(right_hip, right_knee, left_hip, left_knee)\n",
        "      #user_body = calculate_slope(right_shoulder,right_hip,\"horizontal\")\n",
        "      #user_right_elbow = calculate_angle(right_wrist, right_elbow, right_shoulder)\n",
        "      #user_left_elbow = calculate_angle(left_wrist, left_elbow, left_shoulder)\n",
        "      #user_right_shoulder = calculate_angle(right_hip, right_shoulder, right_elbow)\n",
        "      #user_left_shoulder = calc_angle_four_points(left_shoulder, left_hip, left_shoulder, left_elbow)\n",
        "    except Exception as err:\n",
        "      user_left_knee, user_right_knee, user_legs = 0, 0, 0\n",
        "\n",
        "  image_path.append(image_name)\n",
        "  left_knee_ang.append(user_left_knee)\n",
        "  right_knee_ang.append(user_right_knee)\n",
        "  legs_ang.append(user_legs)\n",
        "  #body_ang.append(user_body)\n",
        "  #right_elbow_ang.append(user_right_elbow)\n",
        "  #left_elbow_ang.append(user_left_elbow)\n",
        "  #right_shoulder_ang.append(user_right_shoulder)\n",
        "  #left_shoulder_ang.append(user_left_shoulder)\n",
        "  pose_number.append(2)\n",
        "  pose_name.append('arabesque')"
      ],
      "metadata": {
        "id": "cPTS2-h693Ri"
      },
      "execution_count": 11,
      "outputs": []
    },
    {
      "cell_type": "markdown",
      "source": [
        "#Get CSV"
      ],
      "metadata": {
        "id": "obniWlwdMDn3"
      }
    },
    {
      "cell_type": "code",
      "source": [
        "import pandas as pd\n",
        "data={\"name\":image_path,\n",
        "    \"Lleg_angle\": left_knee_ang,\n",
        "      \"Rleg_angle\": right_knee_ang,\n",
        "      \"hip_angle\": legs_ang,\n",
        "      \"label_number\" : pose_number,\n",
        "      \"label\" : pose_name\n",
        "}\n",
        "df = pd.DataFrame(data)"
      ],
      "metadata": {
        "id": "VUBHh64Z8lV0"
      },
      "execution_count": 12,
      "outputs": []
    },
    {
      "cell_type": "code",
      "source": [
        "#from pathlib import Path\n",
        "filepath = Path('content/out.csv')\n",
        "filepath.parent.mkdir(parents = True, exist_ok = True)\n",
        "df.to_csv(filepath)"
      ],
      "metadata": {
        "id": "s4Je7dNFE73o"
      },
      "execution_count": 13,
      "outputs": []
    },
    {
      "cell_type": "code",
      "source": [
        "print(df)"
      ],
      "metadata": {
        "id": "W5WR_McGCT1Y",
        "colab": {
          "base_uri": "https://localhost:8080/"
        },
        "outputId": "70b66137-88c3-44b7-f0f1-61b9fad6c888"
      },
      "execution_count": 14,
      "outputs": [
        {
          "output_type": "stream",
          "name": "stdout",
          "text": [
            "                                                  name  Lleg_angle  \\\n",
            "0    /content/drive/MyDrive/Blackbox/train/plie/pli...   46.256900   \n",
            "1    /content/drive/MyDrive/Blackbox/train/plie/pli...   95.411611   \n",
            "2    /content/drive/MyDrive/Blackbox/train/plie/pli...  174.032974   \n",
            "3    /content/drive/MyDrive/Blackbox/train/plie/pli...   94.887276   \n",
            "4    /content/drive/MyDrive/Blackbox/train/plie/pli...   83.015645   \n",
            "..                                                 ...         ...   \n",
            "220  /content/drive/MyDrive/Blackbox/train/arabes/a...  171.657549   \n",
            "221  /content/drive/MyDrive/Blackbox/train/arabes/a...  164.522972   \n",
            "222  /content/drive/MyDrive/Blackbox/train/arabes/a...  176.486896   \n",
            "223  /content/drive/MyDrive/Blackbox/train/arabes/a...    0.000000   \n",
            "224  /content/drive/MyDrive/Blackbox/train/arabes/a...  147.800519   \n",
            "\n",
            "     Rleg_angle   hip_angle  label_number      label  \n",
            "0     51.428518  135.088204             0       plie  \n",
            "1    102.192029  146.449932             0       plie  \n",
            "2    111.632334   24.097498             0       plie  \n",
            "3    103.759900  163.195953             0       plie  \n",
            "4     79.322902  150.744700             0       plie  \n",
            "..          ...         ...           ...        ...  \n",
            "220  159.499166   59.832066             2  arabesque  \n",
            "221  178.175216   60.129950             2  arabesque  \n",
            "222  169.238720   59.826311             2  arabesque  \n",
            "223    0.000000    0.000000             2  arabesque  \n",
            "224  172.111557   75.818968             2  arabesque  \n",
            "\n",
            "[225 rows x 6 columns]\n"
          ]
        }
      ]
    },
    {
      "cell_type": "markdown",
      "source": [
        "#Test"
      ],
      "metadata": {
        "id": "VUTHk4wviNOb"
      }
    },
    {
      "cell_type": "code",
      "source": [
        "test_image_path = []\n",
        "test_left_knee_ang = []\n",
        "test_right_knee_ang = []\n",
        "test_legs_ang = []\n",
        "test_pose_number = []\n",
        "test_pose_name = []"
      ],
      "metadata": {
        "id": "NKFcrjXG_Q5h"
      },
      "execution_count": 15,
      "outputs": []
    },
    {
      "cell_type": "code",
      "source": [
        "folder_path = '/content/drive/MyDrive/Blackbox/test/plie'\n",
        "new_name_prefix = 'test_plie'\n",
        "extension = '.jpg' # Change this to match your image file format\n",
        "\n",
        "counter = 1\n",
        "\n",
        "for filename in os.listdir(folder_path):\n",
        "  new_filename = f'{new_name_prefix}_{counter:03d}{extension}'\n",
        "  os.rename(os.path.join(folder_path, filename), os.path.join(folder_path, new_filename))\n",
        "  counter += 1\n",
        "\n",
        "for i in range (1, counter):\n",
        "  image_name = os.path.join(folder_path, f'{new_name_prefix}_{i:03d}{extension}')\n",
        "  img = cv2.imread(image_name)\n",
        "  with mp_pose.Pose(static_image_mode=True, min_detection_confidence=0.3, model_complexity=2) as pose:\n",
        "    results = pose.process(cv2.cvtColor(img, cv2.COLOR_BGR2RGB))\n",
        "    #annotated_image = img.copy()\n",
        "    try:\n",
        "      landmarks = results.pose_landmarks.landmark\n",
        "      for landmark_name in mp_pose.PoseLandmark:\n",
        "        name = str(landmark_name).replace('PoseLandmark.', '').lower()\n",
        "        exec(f'{name} = [landmarks[landmark_name].x, landmarks[landmark_name].y, landmarks[landmark_name].z]')\n",
        "\n",
        "      user_left_knee = calculate_angle(left_hip,left_knee,left_ankle)\n",
        "      user_right_knee = calculate_angle(right_hip,right_knee,right_ankle)\n",
        "      user_legs = calc_angle_four_points(right_hip, right_knee, left_hip, left_knee)\n",
        "    except Exception as err:\n",
        "      user_left_knee, user_right_knee, user_legs = 0, 0, 0\n",
        "\n",
        "  test_image_path.append(image_name)\n",
        "  test_left_knee_ang.append(user_left_knee)\n",
        "  test_right_knee_ang.append(user_right_knee)\n",
        "  test_legs_ang.append(user_legs)\n",
        "  test_pose_number.append(0)\n",
        "  test_pose_name.append('plie')"
      ],
      "metadata": {
        "id": "VMSqFbKC_cBX"
      },
      "execution_count": 16,
      "outputs": []
    },
    {
      "cell_type": "code",
      "source": [
        "folder_path = '/content/drive/MyDrive/Blackbox/test/passe'\n",
        "new_name_prefix = 'test_passe'\n",
        "extension = '.jpg' # Change this to match your image file format\n",
        "\n",
        "counter = 1\n",
        "\n",
        "for filename in os.listdir(folder_path):\n",
        "  new_filename = f'{new_name_prefix}_{counter:03d}{extension}'\n",
        "  os.rename(os.path.join(folder_path, filename), os.path.join(folder_path, new_filename))\n",
        "  counter += 1\n",
        "\n",
        "for i in range (1, counter):\n",
        "  image_name = os.path.join(folder_path, f'{new_name_prefix}_{i:03d}{extension}')\n",
        "  img = cv2.imread(image_name)\n",
        "  with mp_pose.Pose(static_image_mode=True, min_detection_confidence=0.3, model_complexity=2) as pose:\n",
        "    results = pose.process(cv2.cvtColor(img, cv2.COLOR_BGR2RGB))\n",
        "    #annotated_image = img.copy()\n",
        "    try:\n",
        "      landmarks = results.pose_landmarks.landmark\n",
        "      for landmark_name in mp_pose.PoseLandmark:\n",
        "        name = str(landmark_name).replace('PoseLandmark.', '').lower()\n",
        "        exec(f'{name} = [landmarks[landmark_name].x, landmarks[landmark_name].y, landmarks[landmark_name].z]')\n",
        "\n",
        "      user_left_knee = calculate_angle(left_hip,left_knee,left_ankle)\n",
        "      user_right_knee = calculate_angle(right_hip,right_knee,right_ankle)\n",
        "      user_legs = calc_angle_four_points(right_hip, right_knee, left_hip, left_knee)\n",
        "    except Exception as err:\n",
        "      user_left_knee, user_right_knee, user_legs = 0, 0, 0\n",
        "\n",
        "  test_image_path.append(image_name)\n",
        "  test_left_knee_ang.append(user_left_knee)\n",
        "  test_right_knee_ang.append(user_right_knee)\n",
        "  test_legs_ang.append(user_legs)\n",
        "  test_pose_number.append(1)\n",
        "  test_pose_name.append('passe')"
      ],
      "metadata": {
        "id": "OoCRU0DJALNE"
      },
      "execution_count": 17,
      "outputs": []
    },
    {
      "cell_type": "code",
      "source": [
        "folder_path = '/content/drive/MyDrive/Blackbox/test/arabes'\n",
        "new_name_prefix = 'test_arabes'\n",
        "extension = '.jpg' # Change this to match your image file format\n",
        "\n",
        "counter = 1\n",
        "\n",
        "for filename in os.listdir(folder_path):\n",
        "  new_filename = f'{new_name_prefix}_{counter:03d}{extension}'\n",
        "  os.rename(os.path.join(folder_path, filename), os.path.join(folder_path, new_filename))\n",
        "  counter += 1\n",
        "\n",
        "for i in range (1, counter):\n",
        "  image_name = os.path.join(folder_path, f'{new_name_prefix}_{i:03d}{extension}')\n",
        "  img = cv2.imread(image_name)\n",
        "  with mp_pose.Pose(static_image_mode=True, min_detection_confidence=0.3, model_complexity=2) as pose:\n",
        "    results = pose.process(cv2.cvtColor(img, cv2.COLOR_BGR2RGB))\n",
        "    #annotated_image = img.copy()\n",
        "    try:\n",
        "      landmarks = results.pose_landmarks.landmark\n",
        "      for landmark_name in mp_pose.PoseLandmark:\n",
        "        name = str(landmark_name).replace('PoseLandmark.', '').lower()\n",
        "        exec(f'{name} = [landmarks[landmark_name].x, landmarks[landmark_name].y, landmarks[landmark_name].z]')\n",
        "\n",
        "      user_left_knee = calculate_angle(left_hip,left_knee,left_ankle)\n",
        "      user_right_knee = calculate_angle(right_hip,right_knee,right_ankle)\n",
        "      user_legs = calc_angle_four_points(right_hip, right_knee, left_hip, left_knee)\n",
        "    except Exception as err:\n",
        "      user_left_knee, user_right_knee, user_legs = 0, 0, 0\n",
        "\n",
        "  test_image_path.append(image_name)\n",
        "  test_left_knee_ang.append(user_left_knee)\n",
        "  test_right_knee_ang.append(user_right_knee)\n",
        "  test_legs_ang.append(user_legs)\n",
        "  test_pose_number.append(2)\n",
        "  test_pose_name.append('arabesque')"
      ],
      "metadata": {
        "id": "IXOxB7vbAxgH"
      },
      "execution_count": 18,
      "outputs": []
    },
    {
      "cell_type": "markdown",
      "source": [
        "#Get CSV"
      ],
      "metadata": {
        "id": "zq_AhtWOifF3"
      }
    },
    {
      "cell_type": "code",
      "source": [
        "test_data={\"name\":test_image_path,\n",
        "    \"Lleg_angle\": test_left_knee_ang,\n",
        "      \"Rleg_angle\": test_right_knee_ang,\n",
        "      \"hip_angle\": test_legs_ang,\n",
        "      \"label_number\" : test_pose_number,\n",
        "      \"label\" : test_pose_name\n",
        "}\n",
        "test_df = pd.DataFrame(test_data)"
      ],
      "metadata": {
        "id": "QRN8OBtCDcpz"
      },
      "execution_count": 19,
      "outputs": []
    },
    {
      "cell_type": "code",
      "source": [
        "filepath = Path('content/test_out.csv')\n",
        "filepath.parent.mkdir(parents = True, exist_ok = True)\n",
        "test_df.to_csv(filepath)"
      ],
      "metadata": {
        "id": "8yT53ewqFVGC"
      },
      "execution_count": 20,
      "outputs": []
    },
    {
      "cell_type": "code",
      "source": [
        "print(test_df)"
      ],
      "metadata": {
        "id": "8LJic1kAEwIa",
        "colab": {
          "base_uri": "https://localhost:8080/"
        },
        "outputId": "dda7f919-2633-495a-ddb5-0304779ac2e3"
      },
      "execution_count": 21,
      "outputs": [
        {
          "output_type": "stream",
          "name": "stdout",
          "text": [
            "                                                 name  Lleg_angle  Rleg_angle  \\\n",
            "0   /content/drive/MyDrive/Blackbox/test/plie/test...  121.104709  114.821526   \n",
            "1   /content/drive/MyDrive/Blackbox/test/plie/test...  103.461238  124.461333   \n",
            "2   /content/drive/MyDrive/Blackbox/test/plie/test...  111.750772  113.057254   \n",
            "3   /content/drive/MyDrive/Blackbox/test/plie/test...  144.673099  147.015185   \n",
            "4   /content/drive/MyDrive/Blackbox/test/plie/test...  121.877604  125.565921   \n",
            "5   /content/drive/MyDrive/Blackbox/test/plie/test...  163.065355  164.193107   \n",
            "6   /content/drive/MyDrive/Blackbox/test/plie/test...  148.446604  148.031637   \n",
            "7   /content/drive/MyDrive/Blackbox/test/plie/test...  151.328731  134.402233   \n",
            "8   /content/drive/MyDrive/Blackbox/test/plie/test...  130.664920  117.300571   \n",
            "9   /content/drive/MyDrive/Blackbox/test/passe/tes...  179.249702   41.064880   \n",
            "10  /content/drive/MyDrive/Blackbox/test/passe/tes...   35.163296  177.326021   \n",
            "11  /content/drive/MyDrive/Blackbox/test/passe/tes...  173.847103   50.810136   \n",
            "12  /content/drive/MyDrive/Blackbox/test/passe/tes...  174.536097   80.373336   \n",
            "13  /content/drive/MyDrive/Blackbox/test/passe/tes...  173.625551   85.324391   \n",
            "14  /content/drive/MyDrive/Blackbox/test/passe/tes...   79.058768  179.685694   \n",
            "15  /content/drive/MyDrive/Blackbox/test/passe/tes...   80.984920  179.800071   \n",
            "16  /content/drive/MyDrive/Blackbox/test/passe/tes...  174.835871  104.859254   \n",
            "17  /content/drive/MyDrive/Blackbox/test/passe/tes...  176.908748   96.898357   \n",
            "18  /content/drive/MyDrive/Blackbox/test/passe/tes...  179.279908   89.742963   \n",
            "19  /content/drive/MyDrive/Blackbox/test/passe/tes...  179.035638   85.894632   \n",
            "20  /content/drive/MyDrive/Blackbox/test/arabes/te...  165.041677  169.684460   \n",
            "21  /content/drive/MyDrive/Blackbox/test/arabes/te...  177.653768  159.416039   \n",
            "22  /content/drive/MyDrive/Blackbox/test/arabes/te...  177.194103  177.740698   \n",
            "23  /content/drive/MyDrive/Blackbox/test/arabes/te...  173.419593  172.234232   \n",
            "24  /content/drive/MyDrive/Blackbox/test/arabes/te...  175.370296  172.929439   \n",
            "25  /content/drive/MyDrive/Blackbox/test/arabes/te...  171.146034  171.628628   \n",
            "26  /content/drive/MyDrive/Blackbox/test/arabes/te...  163.663218  172.582011   \n",
            "27  /content/drive/MyDrive/Blackbox/test/arabes/te...  171.981071  170.592161   \n",
            "\n",
            "     hip_angle  label_number      label  \n",
            "0    53.450776             0       plie  \n",
            "1    56.460357             0       plie  \n",
            "2    61.128227             0       plie  \n",
            "3    18.559786             0       plie  \n",
            "4    82.555113             0       plie  \n",
            "5    16.175501             0       plie  \n",
            "6    26.571706             0       plie  \n",
            "7    31.908888             0       plie  \n",
            "8    72.854971             0       plie  \n",
            "9    66.364157             1      passe  \n",
            "10   72.110577             1      passe  \n",
            "11   71.041575             1      passe  \n",
            "12   58.381404             1      passe  \n",
            "13   57.021306             1      passe  \n",
            "14   61.772238             1      passe  \n",
            "15   63.804118             1      passe  \n",
            "16   38.574142             1      passe  \n",
            "17   44.267329             1      passe  \n",
            "18   52.963338             1      passe  \n",
            "19   61.213322             1      passe  \n",
            "20  120.436232             2  arabesque  \n",
            "21   86.378220             2  arabesque  \n",
            "22   56.795567             2  arabesque  \n",
            "23  103.001103             2  arabesque  \n",
            "24   83.363841             2  arabesque  \n",
            "25   86.689465             2  arabesque  \n",
            "26   80.305966             2  arabesque  \n",
            "27   92.924613             2  arabesque  \n"
          ]
        }
      ]
    },
    {
      "cell_type": "code",
      "source": [
        "print(len(test_image_path), len(test_left_knee_ang), test_left_knee_ang)"
      ],
      "metadata": {
        "id": "4x68Wz0hcFbL",
        "colab": {
          "base_uri": "https://localhost:8080/"
        },
        "outputId": "0adb4332-2a3c-4349-b422-82486e1fdc1c"
      },
      "execution_count": 22,
      "outputs": [
        {
          "output_type": "stream",
          "name": "stdout",
          "text": [
            "28 28 [121.1047092781219, 103.4612384294137, 111.75077249376812, 144.67309892762606, 121.87760352104962, 163.06535475379252, 148.44660398984547, 151.32873130322858, 130.6649203792131, 179.24970229607075, 35.163296314582965, 173.84710281276642, 174.5360968213126, 173.62555103187958, 79.05876844467286, 80.9849199421318, 174.83587103166133, 176.90874838789094, 179.27990848385465, 179.0356382010485, 165.04167736432515, 177.65376763993888, 177.1941032500241, 173.4195927407073, 175.3702960534951, 171.1460343165013, 163.66321777153016, 171.98107116549923]\n"
          ]
        }
      ]
    },
    {
      "cell_type": "code",
      "source": [
        "#import mathplotlib.pyplot\n",
        "#imgs\n",
        "#plt.imshow(imgs[1])"
      ],
      "metadata": {
        "id": "Jhg_OQ01mNeY"
      },
      "execution_count": 23,
      "outputs": []
    },
    {
      "cell_type": "markdown",
      "source": [
        "#NN"
      ],
      "metadata": {
        "id": "L59kkiCvUiEO"
      }
    },
    {
      "cell_type": "code",
      "source": [
        "#import pandas as pd\n",
        "import keras\n",
        "from keras.models import Sequential\n",
        "from keras.layers import Dense, Dropout, Activation\n",
        "from keras.utils import to_categorical"
      ],
      "metadata": {
        "id": "U3M22jCmUmFz"
      },
      "execution_count": 24,
      "outputs": []
    },
    {
      "cell_type": "code",
      "execution_count": 25,
      "metadata": {
        "id": "pOUcc8EL5rrj"
      },
      "outputs": [],
      "source": [
        "def load_data_csv(csv_path):\n",
        "\n",
        "  # Load the CSV file\n",
        "  dataframe = pd.read_csv(csv_path)\n",
        "  df_to_process = dataframe.copy()\n",
        "\n",
        "  # Drop the file_name columns as you don't need it during training.\n",
        "  df_to_process.drop(columns=['name'], inplace=True)\n",
        "\n",
        "  # Extract the list of class names\n",
        "  classes = df_to_process.pop('label').unique()\n",
        "\n",
        "  # Extract the labels\n",
        "  y = df_to_process.pop('label_number')\n",
        "\n",
        "  # Convert the input features and labels into the correct format for training.\n",
        "  X = df_to_process.astype('float64')\n",
        "  y = keras.utils.to_categorical(y)\n",
        "\n",
        "  return X, y, classes, dataframe"
      ]
    },
    {
      "cell_type": "code",
      "source": [
        "X, y, class_names, _=load_data_csv(\"content/out.csv\") #Change\n"
      ],
      "metadata": {
        "id": "SfjfbxwCVR2a"
      },
      "execution_count": 26,
      "outputs": []
    },
    {
      "cell_type": "code",
      "source": [
        "X_scaled = X.iloc[:, 1:]/180"
      ],
      "metadata": {
        "id": "aS3azwetb3eb"
      },
      "execution_count": 27,
      "outputs": []
    },
    {
      "cell_type": "code",
      "source": [
        "X_ready=X_scaled.to_numpy()"
      ],
      "metadata": {
        "id": "OyHaaO2PmIFN"
      },
      "execution_count": 28,
      "outputs": []
    },
    {
      "cell_type": "code",
      "source": [
        "from sklearn.model_selection import train_test_split"
      ],
      "metadata": {
        "id": "aIxRzfqWh0E_"
      },
      "execution_count": 29,
      "outputs": []
    },
    {
      "cell_type": "code",
      "source": [
        "X_train, X_val, y_train, y_val = train_test_split(X_ready, y,\n",
        "                                                  test_size=0.15)"
      ],
      "metadata": {
        "id": "HaHhWsRz5i2z"
      },
      "execution_count": 30,
      "outputs": []
    },
    {
      "cell_type": "code",
      "source": [
        "print(type(X_scaled))"
      ],
      "metadata": {
        "id": "yVSnQ-Mgkq_6",
        "colab": {
          "base_uri": "https://localhost:8080/"
        },
        "outputId": "578bd3fd-c7a6-46cc-dc01-8f6ddf844153"
      },
      "execution_count": 31,
      "outputs": [
        {
          "output_type": "stream",
          "name": "stdout",
          "text": [
            "<class 'pandas.core.frame.DataFrame'>\n"
          ]
        }
      ]
    },
    {
      "cell_type": "markdown",
      "source": [
        "#Building the model"
      ],
      "metadata": {
        "id": "AZCYRSiTiCDh"
      }
    },
    {
      "cell_type": "code",
      "source": [
        "import tensorflow as tf\n",
        "\n",
        "# Define your input layer\n",
        "input_layer = keras.layers.Input(shape=(3,))\n",
        "\n",
        "# Define the layers of your model\n",
        "hidden_layer = keras.layers.Dense(128, activation='relu')(input_layer)\n",
        "output_layer = keras.layers.Dense(3, activation='softmax')(hidden_layer)  # For multi-class classification\n",
        "\n",
        "# Create the model\n",
        "model = keras.Model(inputs=input_layer, outputs=output_layer)\n",
        "\n",
        "# Compile the model\n",
        "model.compile(optimizer='adam', loss='categorical_crossentropy', metrics=['accuracy'])\n",
        "\n",
        "# Print a summary of the model architecture\n",
        "model.summary()\n",
        "\n",
        "\n",
        "\n",
        "\n"
      ],
      "metadata": {
        "id": "OhVda9cuiHuv",
        "colab": {
          "base_uri": "https://localhost:8080/"
        },
        "outputId": "5a257d12-e41b-4fe8-e638-a46890c22a79"
      },
      "execution_count": 32,
      "outputs": [
        {
          "output_type": "stream",
          "name": "stdout",
          "text": [
            "Model: \"model\"\n",
            "_________________________________________________________________\n",
            " Layer (type)                Output Shape              Param #   \n",
            "=================================================================\n",
            " input_1 (InputLayer)        [(None, 3)]               0         \n",
            "                                                                 \n",
            " dense (Dense)               (None, 128)               512       \n",
            "                                                                 \n",
            " dense_1 (Dense)             (None, 3)                 387       \n",
            "                                                                 \n",
            "=================================================================\n",
            "Total params: 899 (3.51 KB)\n",
            "Trainable params: 899 (3.51 KB)\n",
            "Non-trainable params: 0 (0.00 Byte)\n",
            "_________________________________________________________________\n"
          ]
        }
      ]
    },
    {
      "cell_type": "code",
      "source": [
        "checkpoint_path = \"weights.best.hdf5\"\n",
        "checkpoint = keras.callbacks.ModelCheckpoint(checkpoint_path,\n",
        "                             monitor='val_accuracy',\n",
        "                             verbose=1,\n",
        "                             save_best_only=True,\n",
        "                             mode='max')\n",
        "earlystopping = keras.callbacks.EarlyStopping(monitor='val_accuracy',\n",
        "                                              patience=20)\n",
        "\n",
        "# Start training\n",
        "history = model.fit(X_train, y_train,\n",
        "                    epochs=200,\n",
        "                    batch_size=16,\n",
        "                    validation_data=(X_val, y_val),\n",
        "                    callbacks=[checkpoint, earlystopping])"
      ],
      "metadata": {
        "id": "QJPp8cfX4jVx",
        "colab": {
          "base_uri": "https://localhost:8080/"
        },
        "outputId": "927ad744-5508-4b60-ba2f-f1a22746e9eb"
      },
      "execution_count": 33,
      "outputs": [
        {
          "output_type": "stream",
          "name": "stdout",
          "text": [
            "Epoch 1/200\n",
            " 1/12 [=>............................] - ETA: 8s - loss: 1.0932 - accuracy: 0.3750\n",
            "Epoch 1: val_accuracy improved from -inf to 0.52941, saving model to weights.best.hdf5\n",
            "12/12 [==============================] - 1s 30ms/step - loss: 1.0974 - accuracy: 0.3927 - val_loss: 1.0868 - val_accuracy: 0.5294\n",
            "Epoch 2/200\n",
            " 1/12 [=>............................] - ETA: 0s - loss: 1.0822 - accuracy: 0.5625\n",
            "Epoch 2: val_accuracy did not improve from 0.52941\n",
            "12/12 [==============================] - 0s 6ms/step - loss: 1.0584 - accuracy: 0.6545 - val_loss: 1.0710 - val_accuracy: 0.4706\n",
            "Epoch 3/200\n",
            " 1/12 [=>............................] - ETA: 0s - loss: 1.0198 - accuracy: 0.8750\n",
            "Epoch 3: val_accuracy did not improve from 0.52941\n",
            "12/12 [==============================] - 0s 5ms/step - loss: 1.0315 - accuracy: 0.6335 - val_loss: 1.0580 - val_accuracy: 0.4412\n",
            "Epoch 4/200\n"
          ]
        },
        {
          "output_type": "stream",
          "name": "stderr",
          "text": [
            "/usr/local/lib/python3.10/dist-packages/keras/src/engine/training.py:3103: UserWarning: You are saving your model as an HDF5 file via `model.save()`. This file format is considered legacy. We recommend using instead the native Keras format, e.g. `model.save('my_model.keras')`.\n",
            "  saving_api.save_model(\n"
          ]
        },
        {
          "output_type": "stream",
          "name": "stdout",
          "text": [
            "\r 1/12 [=>............................] - ETA: 0s - loss: 1.0586 - accuracy: 0.4375\n",
            "Epoch 4: val_accuracy did not improve from 0.52941\n",
            "12/12 [==============================] - 0s 6ms/step - loss: 1.0093 - accuracy: 0.6492 - val_loss: 1.0488 - val_accuracy: 0.4412\n",
            "Epoch 5/200\n",
            " 1/12 [=>............................] - ETA: 0s - loss: 0.9654 - accuracy: 0.6875\n",
            "Epoch 5: val_accuracy did not improve from 0.52941\n",
            "12/12 [==============================] - 0s 5ms/step - loss: 0.9909 - accuracy: 0.6230 - val_loss: 1.0408 - val_accuracy: 0.4412\n",
            "Epoch 6/200\n",
            " 1/12 [=>............................] - ETA: 0s - loss: 0.9884 - accuracy: 0.6875\n",
            "Epoch 6: val_accuracy did not improve from 0.52941\n",
            "12/12 [==============================] - 0s 5ms/step - loss: 0.9711 - accuracy: 0.6754 - val_loss: 1.0324 - val_accuracy: 0.4706\n",
            "Epoch 7/200\n",
            " 1/12 [=>............................] - ETA: 0s - loss: 0.9599 - accuracy: 0.7500\n",
            "Epoch 7: val_accuracy did not improve from 0.52941\n",
            "12/12 [==============================] - 0s 7ms/step - loss: 0.9516 - accuracy: 0.7068 - val_loss: 1.0227 - val_accuracy: 0.5000\n",
            "Epoch 8/200\n",
            " 1/12 [=>............................] - ETA: 0s - loss: 0.9462 - accuracy: 0.6250\n",
            "Epoch 8: val_accuracy did not improve from 0.52941\n",
            "12/12 [==============================] - 0s 7ms/step - loss: 0.9295 - accuracy: 0.7120 - val_loss: 1.0135 - val_accuracy: 0.5000\n",
            "Epoch 9/200\n",
            " 1/12 [=>............................] - ETA: 0s - loss: 0.8922 - accuracy: 0.8125\n",
            "Epoch 9: val_accuracy did not improve from 0.52941\n",
            "12/12 [==============================] - 0s 5ms/step - loss: 0.9113 - accuracy: 0.7120 - val_loss: 1.0039 - val_accuracy: 0.5000\n",
            "Epoch 10/200\n",
            " 1/12 [=>............................] - ETA: 0s - loss: 0.8686 - accuracy: 0.8125\n",
            "Epoch 10: val_accuracy did not improve from 0.52941\n",
            "12/12 [==============================] - 0s 7ms/step - loss: 0.8901 - accuracy: 0.7120 - val_loss: 0.9956 - val_accuracy: 0.5294\n",
            "Epoch 11/200\n",
            " 1/12 [=>............................] - ETA: 0s - loss: 0.8594 - accuracy: 0.7500\n",
            "Epoch 11: val_accuracy did not improve from 0.52941\n",
            "12/12 [==============================] - 0s 6ms/step - loss: 0.8704 - accuracy: 0.7382 - val_loss: 0.9850 - val_accuracy: 0.5294\n",
            "Epoch 12/200\n",
            " 1/12 [=>............................] - ETA: 0s - loss: 0.7900 - accuracy: 0.8750\n",
            "Epoch 12: val_accuracy did not improve from 0.52941\n",
            "12/12 [==============================] - 0s 8ms/step - loss: 0.8500 - accuracy: 0.7330 - val_loss: 0.9764 - val_accuracy: 0.5294\n",
            "Epoch 13/200\n",
            " 1/12 [=>............................] - ETA: 0s - loss: 0.7415 - accuracy: 0.8750\n",
            "Epoch 13: val_accuracy did not improve from 0.52941\n",
            "12/12 [==============================] - 0s 7ms/step - loss: 0.8298 - accuracy: 0.7330 - val_loss: 0.9662 - val_accuracy: 0.5294\n",
            "Epoch 14/200\n",
            " 1/12 [=>............................] - ETA: 0s - loss: 0.9062 - accuracy: 0.6250\n",
            "Epoch 14: val_accuracy improved from 0.52941 to 0.55882, saving model to weights.best.hdf5\n",
            "12/12 [==============================] - 0s 8ms/step - loss: 0.8105 - accuracy: 0.7435 - val_loss: 0.9575 - val_accuracy: 0.5588\n",
            "Epoch 15/200\n",
            " 1/12 [=>............................] - ETA: 0s - loss: 0.7293 - accuracy: 0.8125\n",
            "Epoch 15: val_accuracy did not improve from 0.55882\n",
            "12/12 [==============================] - 0s 5ms/step - loss: 0.7924 - accuracy: 0.7435 - val_loss: 0.9463 - val_accuracy: 0.5294\n",
            "Epoch 16/200\n",
            " 1/12 [=>............................] - ETA: 0s - loss: 0.6430 - accuracy: 0.8750\n",
            "Epoch 16: val_accuracy did not improve from 0.55882\n",
            "12/12 [==============================] - 0s 5ms/step - loss: 0.7720 - accuracy: 0.7435 - val_loss: 0.9392 - val_accuracy: 0.5294\n",
            "Epoch 17/200\n",
            " 1/12 [=>............................] - ETA: 0s - loss: 0.7606 - accuracy: 0.7500\n",
            "Epoch 17: val_accuracy did not improve from 0.55882\n",
            "12/12 [==============================] - 0s 6ms/step - loss: 0.7559 - accuracy: 0.7435 - val_loss: 0.9324 - val_accuracy: 0.5294\n",
            "Epoch 18/200\n",
            " 1/12 [=>............................] - ETA: 0s - loss: 0.7592 - accuracy: 0.7500\n",
            "Epoch 18: val_accuracy did not improve from 0.55882\n",
            "12/12 [==============================] - 0s 5ms/step - loss: 0.7375 - accuracy: 0.7435 - val_loss: 0.9227 - val_accuracy: 0.5294\n",
            "Epoch 19/200\n",
            " 1/12 [=>............................] - ETA: 0s - loss: 0.7564 - accuracy: 0.7500\n",
            "Epoch 19: val_accuracy did not improve from 0.55882\n",
            "12/12 [==============================] - 0s 6ms/step - loss: 0.7210 - accuracy: 0.7435 - val_loss: 0.9137 - val_accuracy: 0.5294\n",
            "Epoch 20/200\n",
            " 1/12 [=>............................] - ETA: 0s - loss: 0.5602 - accuracy: 0.8750\n",
            "Epoch 20: val_accuracy did not improve from 0.55882\n",
            "12/12 [==============================] - 0s 6ms/step - loss: 0.7072 - accuracy: 0.7487 - val_loss: 0.9062 - val_accuracy: 0.5294\n",
            "Epoch 21/200\n",
            " 1/12 [=>............................] - ETA: 0s - loss: 0.5547 - accuracy: 0.8750\n",
            "Epoch 21: val_accuracy did not improve from 0.55882\n",
            "12/12 [==============================] - 0s 6ms/step - loss: 0.6909 - accuracy: 0.7487 - val_loss: 0.8971 - val_accuracy: 0.5294\n",
            "Epoch 22/200\n",
            " 1/12 [=>............................] - ETA: 0s - loss: 0.7110 - accuracy: 0.6875\n",
            "Epoch 22: val_accuracy did not improve from 0.55882\n",
            "12/12 [==============================] - 0s 7ms/step - loss: 0.6781 - accuracy: 0.7592 - val_loss: 0.8868 - val_accuracy: 0.5588\n",
            "Epoch 23/200\n",
            " 1/12 [=>............................] - ETA: 0s - loss: 0.6340 - accuracy: 0.7500\n",
            "Epoch 23: val_accuracy did not improve from 0.55882\n",
            "12/12 [==============================] - 0s 6ms/step - loss: 0.6634 - accuracy: 0.7592 - val_loss: 0.8828 - val_accuracy: 0.5294\n",
            "Epoch 24/200\n",
            " 1/12 [=>............................] - ETA: 0s - loss: 0.6413 - accuracy: 0.7500\n",
            "Epoch 24: val_accuracy did not improve from 0.55882\n",
            "12/12 [==============================] - 0s 6ms/step - loss: 0.6513 - accuracy: 0.7487 - val_loss: 0.8784 - val_accuracy: 0.5294\n",
            "Epoch 25/200\n",
            " 1/12 [=>............................] - ETA: 0s - loss: 0.7059 - accuracy: 0.7500\n",
            "Epoch 25: val_accuracy did not improve from 0.55882\n",
            "12/12 [==============================] - 0s 6ms/step - loss: 0.6397 - accuracy: 0.7539 - val_loss: 0.8685 - val_accuracy: 0.5294\n",
            "Epoch 26/200\n",
            " 1/12 [=>............................] - ETA: 0s - loss: 0.5494 - accuracy: 0.8750\n",
            "Epoch 26: val_accuracy improved from 0.55882 to 0.58824, saving model to weights.best.hdf5\n",
            "12/12 [==============================] - 0s 9ms/step - loss: 0.6300 - accuracy: 0.7644 - val_loss: 0.8562 - val_accuracy: 0.5882\n",
            "Epoch 27/200\n",
            " 1/12 [=>............................] - ETA: 0s - loss: 0.8634 - accuracy: 0.6250\n",
            "Epoch 27: val_accuracy improved from 0.58824 to 0.67647, saving model to weights.best.hdf5\n",
            "12/12 [==============================] - 0s 8ms/step - loss: 0.6182 - accuracy: 0.7906 - val_loss: 0.8521 - val_accuracy: 0.6765\n",
            "Epoch 28/200\n",
            " 1/12 [=>............................] - ETA: 0s - loss: 0.5771 - accuracy: 0.8125\n",
            "Epoch 28: val_accuracy did not improve from 0.67647\n",
            "12/12 [==============================] - 0s 7ms/step - loss: 0.6065 - accuracy: 0.7958 - val_loss: 0.8507 - val_accuracy: 0.5882\n",
            "Epoch 29/200\n",
            " 1/12 [=>............................] - ETA: 0s - loss: 0.6163 - accuracy: 0.8125\n",
            "Epoch 29: val_accuracy did not improve from 0.67647\n",
            "12/12 [==============================] - 0s 6ms/step - loss: 0.5957 - accuracy: 0.8063 - val_loss: 0.8353 - val_accuracy: 0.6765\n",
            "Epoch 30/200\n",
            " 1/12 [=>............................] - ETA: 0s - loss: 0.5616 - accuracy: 0.8125\n",
            "Epoch 30: val_accuracy did not improve from 0.67647\n",
            "12/12 [==============================] - 0s 5ms/step - loss: 0.5872 - accuracy: 0.8063 - val_loss: 0.8272 - val_accuracy: 0.6765\n",
            "Epoch 31/200\n",
            " 1/12 [=>............................] - ETA: 0s - loss: 0.3308 - accuracy: 1.0000\n",
            "Epoch 31: val_accuracy did not improve from 0.67647\n",
            "12/12 [==============================] - 0s 7ms/step - loss: 0.5768 - accuracy: 0.8115 - val_loss: 0.8240 - val_accuracy: 0.6765\n",
            "Epoch 32/200\n",
            " 1/12 [=>............................] - ETA: 0s - loss: 0.4674 - accuracy: 0.9375\n",
            "Epoch 32: val_accuracy did not improve from 0.67647\n",
            "12/12 [==============================] - 0s 5ms/step - loss: 0.5659 - accuracy: 0.8168 - val_loss: 0.8155 - val_accuracy: 0.6765\n",
            "Epoch 33/200\n",
            " 1/12 [=>............................] - ETA: 0s - loss: 0.3930 - accuracy: 0.9375\n",
            "Epoch 33: val_accuracy improved from 0.67647 to 0.70588, saving model to weights.best.hdf5\n",
            "12/12 [==============================] - 0s 8ms/step - loss: 0.5571 - accuracy: 0.8220 - val_loss: 0.8064 - val_accuracy: 0.7059\n",
            "Epoch 34/200\n",
            " 1/12 [=>............................] - ETA: 0s - loss: 0.6171 - accuracy: 0.7500\n",
            "Epoch 34: val_accuracy did not improve from 0.70588\n",
            "12/12 [==============================] - 0s 8ms/step - loss: 0.5484 - accuracy: 0.8325 - val_loss: 0.7969 - val_accuracy: 0.7059\n",
            "Epoch 35/200\n",
            " 1/12 [=>............................] - ETA: 0s - loss: 0.4583 - accuracy: 0.8750\n",
            "Epoch 35: val_accuracy did not improve from 0.70588\n",
            "12/12 [==============================] - 0s 6ms/step - loss: 0.5399 - accuracy: 0.8429 - val_loss: 0.7928 - val_accuracy: 0.7059\n",
            "Epoch 36/200\n",
            " 1/12 [=>............................] - ETA: 0s - loss: 0.3222 - accuracy: 1.0000\n",
            "Epoch 36: val_accuracy did not improve from 0.70588\n",
            "12/12 [==============================] - 0s 7ms/step - loss: 0.5314 - accuracy: 0.8377 - val_loss: 0.7858 - val_accuracy: 0.7059\n",
            "Epoch 37/200\n",
            " 1/12 [=>............................] - ETA: 0s - loss: 0.8204 - accuracy: 0.8125\n",
            "Epoch 37: val_accuracy did not improve from 0.70588\n",
            "12/12 [==============================] - 0s 6ms/step - loss: 0.5231 - accuracy: 0.8429 - val_loss: 0.7777 - val_accuracy: 0.7059\n",
            "Epoch 38/200\n",
            " 1/12 [=>............................] - ETA: 0s - loss: 0.5768 - accuracy: 0.8125\n",
            "Epoch 38: val_accuracy did not improve from 0.70588\n",
            "12/12 [==============================] - 0s 7ms/step - loss: 0.5174 - accuracy: 0.8429 - val_loss: 0.7717 - val_accuracy: 0.7059\n",
            "Epoch 39/200\n",
            " 1/12 [=>............................] - ETA: 0s - loss: 0.6477 - accuracy: 0.8125\n",
            "Epoch 39: val_accuracy did not improve from 0.70588\n",
            "12/12 [==============================] - 0s 8ms/step - loss: 0.5101 - accuracy: 0.8429 - val_loss: 0.7639 - val_accuracy: 0.7059\n",
            "Epoch 40/200\n",
            " 1/12 [=>............................] - ETA: 0s - loss: 0.4003 - accuracy: 0.9375\n",
            "Epoch 40: val_accuracy did not improve from 0.70588\n",
            "12/12 [==============================] - 0s 6ms/step - loss: 0.5013 - accuracy: 0.8429 - val_loss: 0.7551 - val_accuracy: 0.7059\n",
            "Epoch 41/200\n",
            " 1/12 [=>............................] - ETA: 0s - loss: 0.6858 - accuracy: 0.8125\n",
            "Epoch 41: val_accuracy improved from 0.70588 to 0.73529, saving model to weights.best.hdf5\n",
            "12/12 [==============================] - 0s 8ms/step - loss: 0.4937 - accuracy: 0.8429 - val_loss: 0.7501 - val_accuracy: 0.7353\n",
            "Epoch 42/200\n",
            " 1/12 [=>............................] - ETA: 0s - loss: 0.4847 - accuracy: 0.8125\n",
            "Epoch 42: val_accuracy did not improve from 0.73529\n",
            "12/12 [==============================] - 0s 6ms/step - loss: 0.4867 - accuracy: 0.8429 - val_loss: 0.7458 - val_accuracy: 0.7353\n",
            "Epoch 43/200\n",
            " 1/12 [=>............................] - ETA: 0s - loss: 0.5718 - accuracy: 0.7500\n",
            "Epoch 43: val_accuracy did not improve from 0.73529\n",
            "12/12 [==============================] - 0s 6ms/step - loss: 0.4797 - accuracy: 0.8429 - val_loss: 0.7407 - val_accuracy: 0.7353\n",
            "Epoch 44/200\n",
            " 1/12 [=>............................] - ETA: 0s - loss: 0.5143 - accuracy: 0.8125\n",
            "Epoch 44: val_accuracy did not improve from 0.73529\n",
            "12/12 [==============================] - 0s 5ms/step - loss: 0.4741 - accuracy: 0.8429 - val_loss: 0.7360 - val_accuracy: 0.7353\n",
            "Epoch 45/200\n",
            " 1/12 [=>............................] - ETA: 0s - loss: 0.3252 - accuracy: 0.8750\n",
            "Epoch 45: val_accuracy did not improve from 0.73529\n",
            "12/12 [==============================] - 0s 5ms/step - loss: 0.4687 - accuracy: 0.8429 - val_loss: 0.7257 - val_accuracy: 0.7353\n",
            "Epoch 46/200\n",
            " 1/12 [=>............................] - ETA: 0s - loss: 0.5391 - accuracy: 0.8125\n",
            "Epoch 46: val_accuracy improved from 0.73529 to 0.76471, saving model to weights.best.hdf5\n",
            "12/12 [==============================] - 0s 8ms/step - loss: 0.4614 - accuracy: 0.8429 - val_loss: 0.7225 - val_accuracy: 0.7647\n",
            "Epoch 47/200\n",
            " 1/12 [=>............................] - ETA: 0s - loss: 0.4130 - accuracy: 0.8750\n",
            "Epoch 47: val_accuracy did not improve from 0.76471\n",
            "12/12 [==============================] - 0s 6ms/step - loss: 0.4564 - accuracy: 0.8482 - val_loss: 0.7177 - val_accuracy: 0.7647\n",
            "Epoch 48/200\n",
            " 1/12 [=>............................] - ETA: 0s - loss: 0.6365 - accuracy: 0.8125\n",
            "Epoch 48: val_accuracy did not improve from 0.76471\n",
            "12/12 [==============================] - 0s 5ms/step - loss: 0.4506 - accuracy: 0.8482 - val_loss: 0.7097 - val_accuracy: 0.7647\n",
            "Epoch 49/200\n",
            " 1/12 [=>............................] - ETA: 0s - loss: 0.5119 - accuracy: 0.8750\n",
            "Epoch 49: val_accuracy did not improve from 0.76471\n",
            "12/12 [==============================] - 0s 6ms/step - loss: 0.4445 - accuracy: 0.8482 - val_loss: 0.7076 - val_accuracy: 0.7647\n",
            "Epoch 50/200\n",
            " 1/12 [=>............................] - ETA: 0s - loss: 0.5291 - accuracy: 0.8125\n",
            "Epoch 50: val_accuracy did not improve from 0.76471\n",
            "12/12 [==============================] - 0s 8ms/step - loss: 0.4398 - accuracy: 0.8534 - val_loss: 0.7029 - val_accuracy: 0.7647\n",
            "Epoch 51/200\n",
            " 1/12 [=>............................] - ETA: 0s - loss: 0.4364 - accuracy: 0.8750\n",
            "Epoch 51: val_accuracy improved from 0.76471 to 0.79412, saving model to weights.best.hdf5\n",
            "12/12 [==============================] - 0s 8ms/step - loss: 0.4347 - accuracy: 0.8534 - val_loss: 0.6947 - val_accuracy: 0.7941\n",
            "Epoch 52/200\n",
            " 1/12 [=>............................] - ETA: 0s - loss: 0.5842 - accuracy: 0.7500\n",
            "Epoch 52: val_accuracy did not improve from 0.79412\n",
            "12/12 [==============================] - 0s 6ms/step - loss: 0.4293 - accuracy: 0.8534 - val_loss: 0.6934 - val_accuracy: 0.7647\n",
            "Epoch 53/200\n",
            " 1/12 [=>............................] - ETA: 0s - loss: 0.3928 - accuracy: 0.8750\n",
            "Epoch 53: val_accuracy improved from 0.79412 to 0.82353, saving model to weights.best.hdf5\n",
            "12/12 [==============================] - 0s 10ms/step - loss: 0.4251 - accuracy: 0.8586 - val_loss: 0.6863 - val_accuracy: 0.8235\n",
            "Epoch 54/200\n",
            " 1/12 [=>............................] - ETA: 0s - loss: 0.3432 - accuracy: 0.8750\n",
            "Epoch 54: val_accuracy did not improve from 0.82353\n",
            "12/12 [==============================] - 0s 7ms/step - loss: 0.4192 - accuracy: 0.8639 - val_loss: 0.6810 - val_accuracy: 0.8235\n",
            "Epoch 55/200\n",
            " 1/12 [=>............................] - ETA: 0s - loss: 0.6489 - accuracy: 0.6875\n",
            "Epoch 55: val_accuracy did not improve from 0.82353\n",
            "12/12 [==============================] - 0s 7ms/step - loss: 0.4150 - accuracy: 0.8586 - val_loss: 0.6759 - val_accuracy: 0.8235\n",
            "Epoch 56/200\n",
            " 1/12 [=>............................] - ETA: 0s - loss: 0.4211 - accuracy: 0.8750\n",
            "Epoch 56: val_accuracy did not improve from 0.82353\n",
            "12/12 [==============================] - 0s 6ms/step - loss: 0.4108 - accuracy: 0.8534 - val_loss: 0.6760 - val_accuracy: 0.8235\n",
            "Epoch 57/200\n",
            " 1/12 [=>............................] - ETA: 0s - loss: 0.5722 - accuracy: 0.6875\n",
            "Epoch 57: val_accuracy did not improve from 0.82353\n",
            "12/12 [==============================] - 0s 7ms/step - loss: 0.4079 - accuracy: 0.8848 - val_loss: 0.6716 - val_accuracy: 0.8235\n",
            "Epoch 58/200\n",
            " 1/12 [=>............................] - ETA: 0s - loss: 0.4320 - accuracy: 0.8750\n",
            "Epoch 58: val_accuracy did not improve from 0.82353\n",
            "12/12 [==============================] - 0s 6ms/step - loss: 0.4021 - accuracy: 0.8743 - val_loss: 0.6666 - val_accuracy: 0.8235\n",
            "Epoch 59/200\n",
            " 1/12 [=>............................] - ETA: 0s - loss: 0.6271 - accuracy: 0.8125\n",
            "Epoch 59: val_accuracy did not improve from 0.82353\n",
            "12/12 [==============================] - 0s 5ms/step - loss: 0.3979 - accuracy: 0.8743 - val_loss: 0.6591 - val_accuracy: 0.8235\n",
            "Epoch 60/200\n",
            " 1/12 [=>............................] - ETA: 0s - loss: 0.5653 - accuracy: 0.8125\n",
            "Epoch 60: val_accuracy did not improve from 0.82353\n",
            "12/12 [==============================] - 0s 7ms/step - loss: 0.3930 - accuracy: 0.8848 - val_loss: 0.6593 - val_accuracy: 0.8235\n",
            "Epoch 61/200\n",
            " 1/12 [=>............................] - ETA: 0s - loss: 0.2461 - accuracy: 0.9375\n",
            "Epoch 61: val_accuracy did not improve from 0.82353\n",
            "12/12 [==============================] - 0s 7ms/step - loss: 0.3894 - accuracy: 0.8901 - val_loss: 0.6552 - val_accuracy: 0.8235\n",
            "Epoch 62/200\n",
            " 1/12 [=>............................] - ETA: 0s - loss: 0.2040 - accuracy: 0.9375\n",
            "Epoch 62: val_accuracy did not improve from 0.82353\n",
            "12/12 [==============================] - 0s 8ms/step - loss: 0.3851 - accuracy: 0.8848 - val_loss: 0.6510 - val_accuracy: 0.8235\n",
            "Epoch 63/200\n",
            " 1/12 [=>............................] - ETA: 0s - loss: 0.4117 - accuracy: 0.8750\n",
            "Epoch 63: val_accuracy did not improve from 0.82353\n",
            "12/12 [==============================] - 0s 6ms/step - loss: 0.3818 - accuracy: 0.8901 - val_loss: 0.6462 - val_accuracy: 0.8235\n",
            "Epoch 64/200\n",
            " 1/12 [=>............................] - ETA: 0s - loss: 0.3299 - accuracy: 0.8750\n",
            "Epoch 64: val_accuracy did not improve from 0.82353\n",
            "12/12 [==============================] - 0s 7ms/step - loss: 0.3801 - accuracy: 0.8796 - val_loss: 0.6470 - val_accuracy: 0.8235\n",
            "Epoch 65/200\n",
            " 1/12 [=>............................] - ETA: 0s - loss: 0.5244 - accuracy: 0.7500\n",
            "Epoch 65: val_accuracy improved from 0.82353 to 0.85294, saving model to weights.best.hdf5\n",
            "12/12 [==============================] - 0s 8ms/step - loss: 0.3741 - accuracy: 0.8848 - val_loss: 0.6383 - val_accuracy: 0.8529\n",
            "Epoch 66/200\n",
            " 1/12 [=>............................] - ETA: 0s - loss: 0.1138 - accuracy: 1.0000\n",
            "Epoch 66: val_accuracy did not improve from 0.85294\n",
            "12/12 [==============================] - 0s 9ms/step - loss: 0.3700 - accuracy: 0.8848 - val_loss: 0.6367 - val_accuracy: 0.8235\n",
            "Epoch 67/200\n",
            " 1/12 [=>............................] - ETA: 0s - loss: 0.7002 - accuracy: 0.8125\n",
            "Epoch 67: val_accuracy did not improve from 0.85294\n",
            "12/12 [==============================] - 0s 5ms/step - loss: 0.3662 - accuracy: 0.8901 - val_loss: 0.6337 - val_accuracy: 0.8235\n",
            "Epoch 68/200\n",
            " 1/12 [=>............................] - ETA: 0s - loss: 0.2485 - accuracy: 0.9375\n",
            "Epoch 68: val_accuracy did not improve from 0.85294\n",
            "12/12 [==============================] - 0s 5ms/step - loss: 0.3629 - accuracy: 0.8848 - val_loss: 0.6314 - val_accuracy: 0.8529\n",
            "Epoch 69/200\n",
            " 1/12 [=>............................] - ETA: 0s - loss: 0.3507 - accuracy: 0.8750\n",
            "Epoch 69: val_accuracy did not improve from 0.85294\n",
            "12/12 [==============================] - 0s 6ms/step - loss: 0.3593 - accuracy: 0.8953 - val_loss: 0.6278 - val_accuracy: 0.8235\n",
            "Epoch 70/200\n",
            " 1/12 [=>............................] - ETA: 0s - loss: 0.1672 - accuracy: 1.0000\n",
            "Epoch 70: val_accuracy did not improve from 0.85294\n",
            "12/12 [==============================] - 0s 7ms/step - loss: 0.3563 - accuracy: 0.8953 - val_loss: 0.6272 - val_accuracy: 0.8235\n",
            "Epoch 71/200\n",
            " 1/12 [=>............................] - ETA: 0s - loss: 0.2904 - accuracy: 0.8750\n",
            "Epoch 71: val_accuracy did not improve from 0.85294\n",
            "12/12 [==============================] - 0s 5ms/step - loss: 0.3537 - accuracy: 0.9005 - val_loss: 0.6218 - val_accuracy: 0.8529\n",
            "Epoch 72/200\n",
            " 1/12 [=>............................] - ETA: 0s - loss: 0.2678 - accuracy: 0.9375\n",
            "Epoch 72: val_accuracy did not improve from 0.85294\n",
            "12/12 [==============================] - 0s 7ms/step - loss: 0.3496 - accuracy: 0.9058 - val_loss: 0.6206 - val_accuracy: 0.8529\n",
            "Epoch 73/200\n",
            " 1/12 [=>............................] - ETA: 0s - loss: 0.4742 - accuracy: 0.8750\n",
            "Epoch 73: val_accuracy did not improve from 0.85294\n",
            "12/12 [==============================] - 0s 6ms/step - loss: 0.3481 - accuracy: 0.9058 - val_loss: 0.6200 - val_accuracy: 0.8529\n",
            "Epoch 74/200\n",
            " 1/12 [=>............................] - ETA: 0s - loss: 0.4283 - accuracy: 0.8750\n",
            "Epoch 74: val_accuracy improved from 0.85294 to 0.88235, saving model to weights.best.hdf5\n",
            "12/12 [==============================] - 0s 7ms/step - loss: 0.3440 - accuracy: 0.9058 - val_loss: 0.6134 - val_accuracy: 0.8824\n",
            "Epoch 75/200\n",
            " 1/12 [=>............................] - ETA: 0s - loss: 0.6235 - accuracy: 0.7500\n",
            "Epoch 75: val_accuracy did not improve from 0.88235\n",
            "12/12 [==============================] - 0s 7ms/step - loss: 0.3410 - accuracy: 0.9110 - val_loss: 0.6109 - val_accuracy: 0.8824\n",
            "Epoch 76/200\n",
            " 1/12 [=>............................] - ETA: 0s - loss: 0.2713 - accuracy: 0.9375\n",
            "Epoch 76: val_accuracy did not improve from 0.88235\n",
            "12/12 [==============================] - 0s 9ms/step - loss: 0.3385 - accuracy: 0.9110 - val_loss: 0.6116 - val_accuracy: 0.8529\n",
            "Epoch 77/200\n",
            " 1/12 [=>............................] - ETA: 0s - loss: 0.2385 - accuracy: 0.9375\n",
            "Epoch 77: val_accuracy did not improve from 0.88235\n",
            "12/12 [==============================] - 0s 8ms/step - loss: 0.3349 - accuracy: 0.9058 - val_loss: 0.6112 - val_accuracy: 0.8824\n",
            "Epoch 78/200\n",
            " 1/12 [=>............................] - ETA: 0s - loss: 0.5101 - accuracy: 0.8750\n",
            "Epoch 78: val_accuracy did not improve from 0.88235\n",
            "12/12 [==============================] - 0s 8ms/step - loss: 0.3324 - accuracy: 0.9215 - val_loss: 0.6045 - val_accuracy: 0.8824\n",
            "Epoch 79/200\n",
            " 1/12 [=>............................] - ETA: 0s - loss: 0.1247 - accuracy: 1.0000\n",
            "Epoch 79: val_accuracy did not improve from 0.88235\n",
            "12/12 [==============================] - 0s 8ms/step - loss: 0.3299 - accuracy: 0.9319 - val_loss: 0.6029 - val_accuracy: 0.8824\n",
            "Epoch 80/200\n",
            " 1/12 [=>............................] - ETA: 0s - loss: 0.2123 - accuracy: 1.0000\n",
            "Epoch 80: val_accuracy did not improve from 0.88235\n",
            "12/12 [==============================] - 0s 8ms/step - loss: 0.3261 - accuracy: 0.9319 - val_loss: 0.6025 - val_accuracy: 0.8824\n",
            "Epoch 81/200\n",
            " 1/12 [=>............................] - ETA: 0s - loss: 0.1945 - accuracy: 0.9375\n",
            "Epoch 81: val_accuracy did not improve from 0.88235\n",
            "12/12 [==============================] - 0s 9ms/step - loss: 0.3241 - accuracy: 0.9215 - val_loss: 0.6016 - val_accuracy: 0.8824\n",
            "Epoch 82/200\n",
            " 1/12 [=>............................] - ETA: 0s - loss: 0.3993 - accuracy: 0.8750\n",
            "Epoch 82: val_accuracy did not improve from 0.88235\n",
            "12/12 [==============================] - 0s 9ms/step - loss: 0.3217 - accuracy: 0.9267 - val_loss: 0.5948 - val_accuracy: 0.8824\n",
            "Epoch 83/200\n",
            " 1/12 [=>............................] - ETA: 0s - loss: 0.3887 - accuracy: 0.9375\n",
            "Epoch 83: val_accuracy did not improve from 0.88235\n",
            "12/12 [==============================] - 0s 9ms/step - loss: 0.3198 - accuracy: 0.9319 - val_loss: 0.5939 - val_accuracy: 0.8824\n",
            "Epoch 84/200\n",
            " 1/12 [=>............................] - ETA: 0s - loss: 0.1069 - accuracy: 1.0000\n",
            "Epoch 84: val_accuracy did not improve from 0.88235\n",
            "12/12 [==============================] - 0s 10ms/step - loss: 0.3166 - accuracy: 0.9319 - val_loss: 0.5896 - val_accuracy: 0.8824\n",
            "Epoch 85/200\n",
            " 1/12 [=>............................] - ETA: 0s - loss: 0.3467 - accuracy: 0.9375\n",
            "Epoch 85: val_accuracy did not improve from 0.88235\n",
            "12/12 [==============================] - 0s 9ms/step - loss: 0.3135 - accuracy: 0.9319 - val_loss: 0.5901 - val_accuracy: 0.8824\n",
            "Epoch 86/200\n",
            " 1/12 [=>............................] - ETA: 0s - loss: 0.0975 - accuracy: 1.0000\n",
            "Epoch 86: val_accuracy did not improve from 0.88235\n",
            "12/12 [==============================] - 0s 9ms/step - loss: 0.3130 - accuracy: 0.9267 - val_loss: 0.5930 - val_accuracy: 0.8824\n",
            "Epoch 87/200\n",
            " 1/12 [=>............................] - ETA: 0s - loss: 0.2305 - accuracy: 0.9375\n",
            "Epoch 87: val_accuracy did not improve from 0.88235\n",
            "12/12 [==============================] - 0s 8ms/step - loss: 0.3095 - accuracy: 0.9319 - val_loss: 0.5872 - val_accuracy: 0.8824\n",
            "Epoch 88/200\n",
            " 1/12 [=>............................] - ETA: 0s - loss: 0.1390 - accuracy: 1.0000\n",
            "Epoch 88: val_accuracy improved from 0.88235 to 0.91176, saving model to weights.best.hdf5\n",
            "12/12 [==============================] - 0s 10ms/step - loss: 0.3068 - accuracy: 0.9319 - val_loss: 0.5847 - val_accuracy: 0.9118\n",
            "Epoch 89/200\n",
            " 1/12 [=>............................] - ETA: 0s - loss: 0.3515 - accuracy: 0.9375\n",
            "Epoch 89: val_accuracy did not improve from 0.91176\n",
            "12/12 [==============================] - 0s 9ms/step - loss: 0.3062 - accuracy: 0.9319 - val_loss: 0.5843 - val_accuracy: 0.8824\n",
            "Epoch 90/200\n",
            " 1/12 [=>............................] - ETA: 0s - loss: 0.1482 - accuracy: 1.0000\n",
            "Epoch 90: val_accuracy did not improve from 0.91176\n",
            "12/12 [==============================] - 0s 8ms/step - loss: 0.3023 - accuracy: 0.9319 - val_loss: 0.5799 - val_accuracy: 0.9118\n",
            "Epoch 91/200\n",
            " 1/12 [=>............................] - ETA: 0s - loss: 0.3501 - accuracy: 0.8750\n",
            "Epoch 91: val_accuracy did not improve from 0.91176\n",
            "12/12 [==============================] - 0s 9ms/step - loss: 0.3006 - accuracy: 0.9372 - val_loss: 0.5792 - val_accuracy: 0.9118\n",
            "Epoch 92/200\n",
            " 1/12 [=>............................] - ETA: 0s - loss: 0.1916 - accuracy: 1.0000\n",
            "Epoch 92: val_accuracy did not improve from 0.91176\n",
            "12/12 [==============================] - 0s 9ms/step - loss: 0.2979 - accuracy: 0.9319 - val_loss: 0.5803 - val_accuracy: 0.8824\n",
            "Epoch 93/200\n",
            " 1/12 [=>............................] - ETA: 0s - loss: 0.4320 - accuracy: 0.8750\n",
            "Epoch 93: val_accuracy did not improve from 0.91176\n",
            "12/12 [==============================] - 0s 8ms/step - loss: 0.2963 - accuracy: 0.9319 - val_loss: 0.5807 - val_accuracy: 0.8824\n",
            "Epoch 94/200\n",
            " 1/12 [=>............................] - ETA: 0s - loss: 0.5358 - accuracy: 0.7500\n",
            "Epoch 94: val_accuracy did not improve from 0.91176\n",
            "12/12 [==============================] - 0s 8ms/step - loss: 0.2945 - accuracy: 0.9319 - val_loss: 0.5761 - val_accuracy: 0.9118\n",
            "Epoch 95/200\n",
            " 1/12 [=>............................] - ETA: 0s - loss: 0.2238 - accuracy: 0.9375\n",
            "Epoch 95: val_accuracy did not improve from 0.91176\n",
            "12/12 [==============================] - 0s 9ms/step - loss: 0.2919 - accuracy: 0.9319 - val_loss: 0.5745 - val_accuracy: 0.9118\n",
            "Epoch 96/200\n",
            " 1/12 [=>............................] - ETA: 0s - loss: 0.1710 - accuracy: 0.9375\n",
            "Epoch 96: val_accuracy did not improve from 0.91176\n",
            "12/12 [==============================] - 0s 9ms/step - loss: 0.2903 - accuracy: 0.9319 - val_loss: 0.5738 - val_accuracy: 0.9118\n",
            "Epoch 97/200\n",
            " 1/12 [=>............................] - ETA: 0s - loss: 0.5298 - accuracy: 0.8125\n",
            "Epoch 97: val_accuracy did not improve from 0.91176\n",
            "12/12 [==============================] - 0s 9ms/step - loss: 0.2878 - accuracy: 0.9319 - val_loss: 0.5725 - val_accuracy: 0.9118\n",
            "Epoch 98/200\n",
            " 1/12 [=>............................] - ETA: 0s - loss: 0.1830 - accuracy: 1.0000\n",
            "Epoch 98: val_accuracy did not improve from 0.91176\n",
            "12/12 [==============================] - 0s 8ms/step - loss: 0.2873 - accuracy: 0.9319 - val_loss: 0.5688 - val_accuracy: 0.9118\n",
            "Epoch 99/200\n",
            " 1/12 [=>............................] - ETA: 0s - loss: 0.1223 - accuracy: 1.0000\n",
            "Epoch 99: val_accuracy did not improve from 0.91176\n",
            "12/12 [==============================] - 0s 8ms/step - loss: 0.2844 - accuracy: 0.9372 - val_loss: 0.5696 - val_accuracy: 0.9118\n",
            "Epoch 100/200\n",
            " 1/12 [=>............................] - ETA: 0s - loss: 0.1516 - accuracy: 1.0000\n",
            "Epoch 100: val_accuracy did not improve from 0.91176\n",
            "12/12 [==============================] - 0s 8ms/step - loss: 0.2828 - accuracy: 0.9319 - val_loss: 0.5649 - val_accuracy: 0.9118\n",
            "Epoch 101/200\n",
            " 1/12 [=>............................] - ETA: 0s - loss: 0.2868 - accuracy: 0.8750\n",
            "Epoch 101: val_accuracy did not improve from 0.91176\n",
            "12/12 [==============================] - 0s 8ms/step - loss: 0.2803 - accuracy: 0.9372 - val_loss: 0.5642 - val_accuracy: 0.9118\n",
            "Epoch 102/200\n",
            " 1/12 [=>............................] - ETA: 0s - loss: 0.1252 - accuracy: 1.0000\n",
            "Epoch 102: val_accuracy did not improve from 0.91176\n",
            "12/12 [==============================] - 0s 9ms/step - loss: 0.2795 - accuracy: 0.9319 - val_loss: 0.5629 - val_accuracy: 0.9118\n",
            "Epoch 103/200\n",
            " 1/12 [=>............................] - ETA: 0s - loss: 0.3217 - accuracy: 0.8125\n",
            "Epoch 103: val_accuracy did not improve from 0.91176\n",
            "12/12 [==============================] - 0s 8ms/step - loss: 0.2780 - accuracy: 0.9319 - val_loss: 0.5634 - val_accuracy: 0.9118\n",
            "Epoch 104/200\n",
            " 1/12 [=>............................] - ETA: 0s - loss: 0.3703 - accuracy: 0.8750\n",
            "Epoch 104: val_accuracy did not improve from 0.91176\n",
            "12/12 [==============================] - 0s 9ms/step - loss: 0.2766 - accuracy: 0.9319 - val_loss: 0.5636 - val_accuracy: 0.9118\n",
            "Epoch 105/200\n",
            " 1/12 [=>............................] - ETA: 0s - loss: 0.2303 - accuracy: 0.9375\n",
            "Epoch 105: val_accuracy did not improve from 0.91176\n",
            "12/12 [==============================] - 0s 8ms/step - loss: 0.2744 - accuracy: 0.9372 - val_loss: 0.5610 - val_accuracy: 0.9118\n",
            "Epoch 106/200\n",
            " 1/12 [=>............................] - ETA: 0s - loss: 0.2512 - accuracy: 0.9375\n",
            "Epoch 106: val_accuracy did not improve from 0.91176\n",
            "12/12 [==============================] - 0s 8ms/step - loss: 0.2733 - accuracy: 0.9372 - val_loss: 0.5609 - val_accuracy: 0.9118\n",
            "Epoch 107/200\n",
            " 1/12 [=>............................] - ETA: 0s - loss: 0.3701 - accuracy: 0.8750\n",
            "Epoch 107: val_accuracy did not improve from 0.91176\n",
            "12/12 [==============================] - 0s 8ms/step - loss: 0.2708 - accuracy: 0.9319 - val_loss: 0.5574 - val_accuracy: 0.9118\n",
            "Epoch 108/200\n",
            " 1/12 [=>............................] - ETA: 0s - loss: 0.1373 - accuracy: 1.0000\n",
            "Epoch 108: val_accuracy did not improve from 0.91176\n",
            "12/12 [==============================] - 0s 9ms/step - loss: 0.2684 - accuracy: 0.9319 - val_loss: 0.5537 - val_accuracy: 0.9118\n"
          ]
        }
      ]
    },
    {
      "cell_type": "code",
      "source": [
        "model.save(\"my_model.keras\")\n"
      ],
      "metadata": {
        "id": "ZmaoZKng9UuA"
      },
      "execution_count": 34,
      "outputs": []
    },
    {
      "cell_type": "code",
      "execution_count": 35,
      "metadata": {
        "id": "pNVqmd2JO6Rp",
        "colab": {
          "base_uri": "https://localhost:8080/",
          "height": 472
        },
        "outputId": "7e0b45de-41db-4ab0-82b1-0f6fa99b60c0"
      },
      "outputs": [
        {
          "output_type": "display_data",
          "data": {
            "text/plain": [
              "<Figure size 640x480 with 1 Axes>"
            ],
            "image/png": "[encoded data removed]"
          },
          "metadata": {}
        }
      ],
      "source": [
        "# Visualize the training history to see whether you're overfitting.\n",
        "from matplotlib import pyplot as plt\n",
        "plt.plot(history.history['accuracy'])\n",
        "plt.plot(history.history['val_accuracy'])\n",
        "plt.title('Model accuracy')\n",
        "plt.ylabel('accuracy')\n",
        "plt.xlabel('epoch')\n",
        "plt.legend(['TRAIN', 'VAL'], loc='lower right')\n",
        "plt.show()"
      ]
    },
    {
      "cell_type": "markdown",
      "source": [
        "#Kfold"
      ],
      "metadata": {
        "id": "XzaZIsI84Q-T"
      }
    },
    {
      "cell_type": "code",
      "source": [
        "from sklearn.model_selection import KFold\n",
        "import numpy as np\n",
        "\n",
        "# Assuming you have 'X' as your input data and 'y' as your target labels\n",
        "kf = KFold(n_splits=10, shuffle=True)\n",
        "\n",
        "performance_metrics = []\n",
        "\n",
        "for train_index, val_index in kf.split(X):\n",
        "    X_train, X_val = X_ready[train_index], X_ready[val_index]\n",
        "    y_train, y_val = y[train_index], y[val_index]\n",
        "\n",
        "    # Define and compile your neural network model\n",
        "    input_layer = keras.layers.Input(shape=(3,))\n",
        "\n",
        "    # Define the layers of your model\n",
        "    hidden_layer = keras.layers.Dense(128, activation='relu')(input_layer)\n",
        "    output_layer = keras.layers.Dense(3, activation='softmax')(hidden_layer)  # For multi-class classification\n",
        "\n",
        "    # Create the model\n",
        "    model = keras.Model(inputs=input_layer, outputs=output_layer)\n",
        "\n",
        "    model.compile(optimizer='adam', loss='categorical_crossentropy', metrics=['accuracy'])\n",
        "\n",
        "    # Train the model\n",
        "    model.fit(X_train, y_train, epochs=200, batch_size=10, verbose=0)\n",
        "\n",
        "    # Evaluate the model\n",
        "    loss, accuracy = model.evaluate(X_val, y_val, verbose=0)\n",
        "\n",
        "    performance_metrics.append(accuracy)\n",
        "\n",
        "average_accuracy = np.mean(performance_metrics)\n",
        "std_dev_accuracy = np.std(performance_metrics)\n",
        "\n",
        "print(\"Average Accuracy:\", average_accuracy)\n",
        "print(\"Standard Deviation of Accuracy:\", std_dev_accuracy)\n"
      ],
      "metadata": {
        "id": "_zRE-JzQ4QVq",
        "colab": {
          "base_uri": "https://localhost:8080/"
        },
        "outputId": "e4743f71-c68b-4c57-a3b7-ef593dfda672"
      },
      "execution_count": 36,
      "outputs": [
        {
          "output_type": "stream",
          "name": "stderr",
          "text": [
            "WARNING:tensorflow:5 out of the last 328 calls to <function Model.make_test_function.<locals>.test_function at 0x7bc131777880> triggered tf.function retracing. Tracing is expensive and the excessive number of tracings could be due to (1) creating @tf.function repeatedly in a loop, (2) passing tensors with different shapes, (3) passing Python objects instead of tensors. For (1), please define your @tf.function outside of the loop. For (2), @tf.function has reduce_retracing=True option that can avoid unnecessary retracing. For (3), please refer to https://www.tensorflow.org/guide/function#controlling_retracing and https://www.tensorflow.org/api_docs/python/tf/function for  more details.\n",
            "WARNING:tensorflow:6 out of the last 329 calls to <function Model.make_test_function.<locals>.test_function at 0x7bc1315251b0> triggered tf.function retracing. Tracing is expensive and the excessive number of tracings could be due to (1) creating @tf.function repeatedly in a loop, (2) passing tensors with different shapes, (3) passing Python objects instead of tensors. For (1), please define your @tf.function outside of the loop. For (2), @tf.function has reduce_retracing=True option that can avoid unnecessary retracing. For (3), please refer to https://www.tensorflow.org/guide/function#controlling_retracing and https://www.tensorflow.org/api_docs/python/tf/function for  more details.\n"
          ]
        },
        {
          "output_type": "stream",
          "name": "stdout",
          "text": [
            "Average Accuracy: 0.9158102810382843\n",
            "Standard Deviation of Accuracy: 0.05421795656115952\n"
          ]
        }
      ]
    },
    {
      "cell_type": "code",
      "source": [
        "import matplotlib.pyplot as plt\n",
        "plt.figure(figsize=(8, 6))\n",
        "plt.plot( performance_metrics)\n",
        "plt.xlabel('Fold')\n",
        "plt.ylabel('Accuracy')\n",
        "plt.title('Accuracy of K-Fold Cross-Validation')\n",
        "plt.ylim([0, 1])\n",
        "plt.show()"
      ],
      "metadata": {
        "id": "_buZMtrD2rNR",
        "colab": {
          "base_uri": "https://localhost:8080/",
          "height": 564
        },
        "outputId": "1aade8cd-f662-4a45-b4e4-74f09d3faadb"
      },
      "execution_count": 37,
      "outputs": [
        {
          "output_type": "display_data",
          "data": {
            "text/plain": [
              "<Figure size 800x600 with 1 Axes>"
            ],
            "image/png": "[encoded data removed]"
          },
          "metadata": {}
        }
      ]
    },
    {
      "cell_type": "code",
      "source": [
        "print(performance_metrics)"
      ],
      "metadata": {
        "id": "bQroMIrk_nXT",
        "colab": {
          "base_uri": "https://localhost:8080/"
        },
        "outputId": "2460be52-55c3-43ec-f840-db167cb66d6a"
      },
      "execution_count": 38,
      "outputs": [
        {
          "output_type": "stream",
          "name": "stdout",
          "text": [
            "[0.9130434989929199, 0.8260869383811951, 0.9130434989929199, 0.9130434989929199, 0.95652174949646, 0.9545454382896423, 0.8181818127632141, 0.9090909361839294, 0.9545454382896423, 1.0]\n"
          ]
        }
      ]
    },
    {
      "cell_type": "code",
      "source": [
        "#Average Accuracy: 0.9021739184856414\n",
        "#Standard Deviation of Accuracy: 0.03906101138032975\n",
        "# [0.8695651888847351, 0.9130434989929199, 0.9130434989929199, 0.8695651888847351, 0.95652174949646, 0.9090909361839294, 0.9090909361839294, 0.8181818127632141, 0.9090909361839294, 0.9545454382896423]"
      ],
      "metadata": {
        "id": "o3oAnERE_28-"
      },
      "execution_count": 39,
      "outputs": []
    },
    {
      "cell_type": "markdown",
      "source": [
        "#Feedback"
      ],
      "metadata": {
        "id": "Fp2m-q-xIxiY"
      }
    },
    {
      "cell_type": "code",
      "source": [
        "#load image, detect landmarks etc"
      ],
      "metadata": {
        "id": "NO_gMJP2_3B3"
      },
      "execution_count": 40,
      "outputs": []
    },
    {
      "cell_type": "code",
      "source": [
        "from google.colab import files"
      ],
      "metadata": {
        "id": "v9hAf2odXPi0"
      },
      "execution_count": 41,
      "outputs": []
    },
    {
      "cell_type": "code",
      "source": [
        "user_img = files.upload()"
      ],
      "metadata": {
        "colab": {
          "base_uri": "https://localhost:8080/",
          "height": 308
        },
        "id": "cxZgnNCMXRBL",
        "outputId": "fff16ca2-125f-4a6d-9ecb-d3a9ab08e830"
      },
      "execution_count": 42,
      "outputs": [
        {
          "output_type": "display_data",
          "data": {
            "text/plain": [
              "<IPython.core.display.HTML object>"
            ],
            "text/html": [
              "\n",
              "     <input type=\"file\" id=\"files-aa3a89a1-f921-458b-a875-a7bc36b906d7\" name=\"files[]\" multiple disabled\n",
              "        style=\"border:none\" />\n",
              "     <output id=\"result-aa3a89a1-f921-458b-a875-a7bc36b906d7\">\n",
              "      Upload widget is only available when the cell has been executed in the\n",
              "      current browser session. Please rerun this cell to enable.\n",
              "      </output>\n",
              "      <script>// Copyright 2017 Google LLC\n",
              "//\n",
              "// Licensed under the Apache License, Version 2.0 (the \"License\");\n",
              "// you may not use this file except in compliance with the License.\n",
              "// You may obtain a copy of the License at\n",
              "//\n",
              "//      http://www.apache.org/licenses/LICENSE-2.0\n",
              "//\n",
              "// Unless required by applicable law or agreed to in writing, software\n",
              "// distributed under the License is distributed on an \"AS IS\" BASIS,\n",
              "// WITHOUT WARRANTIES OR CONDITIONS OF ANY KIND, either express or implied.\n",
              "// See the License for the specific language governing permissions and\n",
              "// limitations under the License.\n",
              "\n",
              "/**\n",
              " * @fileoverview Helpers for google.colab Python module.\n",
              " */\n",
              "(function(scope) {\n",
              "function span(text, styleAttributes = {}) {\n",
              "  const element = document.createElement('span');\n",
              "  element.textContent = text;\n",
              "  for (const key of Object.keys(styleAttributes)) {\n",
              "    element.style[key] = styleAttributes[key];\n",
              "  }\n",
              "  return element;\n",
              "}\n",
              "\n",
              "// Max number of bytes which will be uploaded at a time.\n",
              "const MAX_PAYLOAD_SIZE = 100 * 1024;\n",
              "\n",
              "function _uploadFiles(inputId, outputId) {\n",
              "  const steps = uploadFilesStep(inputId, outputId);\n",
              "  const outputElement = document.getElementById(outputId);\n",
              "  // Cache steps on the outputElement to make it available for the next call\n",
              "  // to uploadFilesContinue from Python.\n",
              "  outputElement.steps = steps;\n",
              "\n",
              "  return _uploadFilesContinue(outputId);\n",
              "}\n",
              "\n",
              "// This is roughly an async generator (not supported in the browser yet),\n",
              "// where there are multiple asynchronous steps and the Python side is going\n",
              "// to poll for completion of each step.\n",
              "// This uses a Promise to block the python side on completion of each step,\n",
              "// then passes the result of the previous step as the input to the next step.\n",
              "function _uploadFilesContinue(outputId) {\n",
              "  const outputElement = document.getElementById(outputId);\n",
              "  const steps = outputElement.steps;\n",
              "\n",
              "  const next = steps.next(outputElement.lastPromiseValue);\n",
              "  return Promise.resolve(next.value.promise).then((value) => {\n",
              "    // Cache the last promise value to make it available to the next\n",
              "    // step of the generator.\n",
              "    outputElement.lastPromiseValue = value;\n",
              "    return next.value.response;\n",
              "  });\n",
              "}\n",
              "\n",
              "/**\n",
              " * Generator function which is called between each async step of the upload\n",
              " * process.\n",
              " * @param {string} inputId Element ID of the input file picker element.\n",
              " * @param {string} outputId Element ID of the output display.\n",
              " * @return {!Iterable<!Object>} Iterable of next steps.\n",
              " */\n",
              "function* uploadFilesStep(inputId, outputId) {\n",
              "  const inputElement = document.getElementById(inputId);\n",
              "  inputElement.disabled = false;\n",
              "\n",
              "  const outputElement = document.getElementById(outputId);\n",
              "  outputElement.innerHTML = '';\n",
              "\n",
              "  const pickedPromise = new Promise((resolve) => {\n",
              "    inputElement.addEventListener('change', (e) => {\n",
              "      resolve(e.target.files);\n",
              "    });\n",
              "  });\n",
              "\n",
              "  const cancel = document.createElement('button');\n",
              "  inputElement.parentElement.appendChild(cancel);\n",
              "  cancel.textContent = 'Cancel upload';\n",
              "  const cancelPromise = new Promise((resolve) => {\n",
              "    cancel.onclick = () => {\n",
              "      resolve(null);\n",
              "    };\n",
              "  });\n",
              "\n",
              "  // Wait for the user to pick the files.\n",
              "  const files = yield {\n",
              "    promise: Promise.race([pickedPromise, cancelPromise]),\n",
              "    response: {\n",
              "      action: 'starting',\n",
              "    }\n",
              "  };\n",
              "\n",
              "  cancel.remove();\n",
              "\n",
              "  // Disable the input element since further picks are not allowed.\n",
              "  inputElement.disabled = true;\n",
              "\n",
              "  if (!files) {\n",
              "    return {\n",
              "      response: {\n",
              "        action: 'complete',\n",
              "      }\n",
              "    };\n",
              "  }\n",
              "\n",
              "  for (const file of files) {\n",
              "    const li = document.createElement('li');\n",
              "    li.append(span(file.name, {fontWeight: 'bold'}));\n",
              "    li.append(span(\n",
              "        `(${file.type || 'n/a'}) - ${file.size} bytes, ` +\n",
              "        `last modified: ${\n",
              "            file.lastModifiedDate ? file.lastModifiedDate.toLocaleDateString() :\n",
              "                                    'n/a'} - `));\n",
              "    const percent = span('0% done');\n",
              "    li.appendChild(percent);\n",
              "\n",
              "    outputElement.appendChild(li);\n",
              "\n",
              "    const fileDataPromise = new Promise((resolve) => {\n",
              "      const reader = new FileReader();\n",
              "      reader.onload = (e) => {\n",
              "        resolve(e.target.result);\n",
              "      };\n",
              "      reader.readAsArrayBuffer(file);\n",
              "    });\n",
              "    // Wait for the data to be ready.\n",
              "    let fileData = yield {\n",
              "      promise: fileDataPromise,\n",
              "      response: {\n",
              "        action: 'continue',\n",
              "      }\n",
              "    };\n",
              "\n",
              "    // Use a chunked sending to avoid message size limits. See b/62115660.\n",
              "    let position = 0;\n",
              "    do {\n",
              "      const length = Math.min(fileData.byteLength - position, MAX_PAYLOAD_SIZE);\n",
              "      const chunk = new Uint8Array(fileData, position, length);\n",
              "      position += length;\n",
              "\n",
              "      const base64 = btoa(String.fromCharCode.apply(null, chunk));\n",
              "      yield {\n",
              "        response: {\n",
              "          action: 'append',\n",
              "          file: file.name,\n",
              "          data: base64,\n",
              "        },\n",
              "      };\n",
              "\n",
              "      let percentDone = fileData.byteLength === 0 ?\n",
              "          100 :\n",
              "          Math.round((position / fileData.byteLength) * 100);\n",
              "      percent.textContent = `${percentDone}% done`;\n",
              "\n",
              "    } while (position < fileData.byteLength);\n",
              "  }\n",
              "\n",
              "  // All done.\n",
              "  yield {\n",
              "    response: {\n",
              "      action: 'complete',\n",
              "    }\n",
              "  };\n",
              "}\n",
              "\n",
              "scope.google = scope.google || {};\n",
              "scope.google.colab = scope.google.colab || {};\n",
              "scope.google.colab._files = {\n",
              "  _uploadFiles,\n",
              "  _uploadFilesContinue,\n",
              "};\n",
              "})(self);\n",
              "</script> "
            ]
          },
          "metadata": {}
        },
        {
          "output_type": "error",
          "ename": "KeyboardInterrupt",
          "evalue": "",
          "traceback": [
            "\u001b[0;31m---------------------------------------------------------------------------\u001b[0m",
            "\u001b[0;31mKeyboardInterrupt\u001b[0m                         Traceback (most recent call last)",
            "\u001b[0;32m<ipython-input-42-0b5a7fc9488d>\u001b[0m in \u001b[0;36m<cell line: 1>\u001b[0;34m()\u001b[0m\n\u001b[0;32m----> 1\u001b[0;31m \u001b[0muser_img\u001b[0m \u001b[0;34m=\u001b[0m \u001b[0mfiles\u001b[0m\u001b[0;34m.\u001b[0m\u001b[0mupload\u001b[0m\u001b[0;34m(\u001b[0m\u001b[0;34m)\u001b[0m\u001b[0;34m\u001b[0m\u001b[0;34m\u001b[0m\u001b[0m\n\u001b[0m",
            "\u001b[0;32m/usr/local/lib/python3.10/dist-packages/google/colab/files.py\u001b[0m in \u001b[0;36mupload\u001b[0;34m()\u001b[0m\n\u001b[1;32m     67\u001b[0m   \"\"\"\n\u001b[1;32m     68\u001b[0m \u001b[0;34m\u001b[0m\u001b[0m\n\u001b[0;32m---> 69\u001b[0;31m   \u001b[0muploaded_files\u001b[0m \u001b[0;34m=\u001b[0m \u001b[0m_upload_files\u001b[0m\u001b[0;34m(\u001b[0m\u001b[0mmultiple\u001b[0m\u001b[0;34m=\u001b[0m\u001b[0;32mTrue\u001b[0m\u001b[0;34m)\u001b[0m\u001b[0;34m\u001b[0m\u001b[0;34m\u001b[0m\u001b[0m\n\u001b[0m\u001b[1;32m     70\u001b[0m   \u001b[0;31m# Mapping from original filename to filename as saved locally.\u001b[0m\u001b[0;34m\u001b[0m\u001b[0;34m\u001b[0m\u001b[0m\n\u001b[1;32m     71\u001b[0m   \u001b[0mlocal_filenames\u001b[0m \u001b[0;34m=\u001b[0m \u001b[0mdict\u001b[0m\u001b[0;34m(\u001b[0m\u001b[0;34m)\u001b[0m\u001b[0;34m\u001b[0m\u001b[0;34m\u001b[0m\u001b[0m\n",
            "\u001b[0;32m/usr/local/lib/python3.10/dist-packages/google/colab/files.py\u001b[0m in \u001b[0;36m_upload_files\u001b[0;34m(multiple)\u001b[0m\n\u001b[1;32m    154\u001b[0m \u001b[0;34m\u001b[0m\u001b[0m\n\u001b[1;32m    155\u001b[0m   \u001b[0;31m# First result is always an indication that the file picker has completed.\u001b[0m\u001b[0;34m\u001b[0m\u001b[0;34m\u001b[0m\u001b[0m\n\u001b[0;32m--> 156\u001b[0;31m   result = _output.eval_js(\n\u001b[0m\u001b[1;32m    157\u001b[0m       'google.colab._files._uploadFiles(\"{input_id}\", \"{output_id}\")'.format(\n\u001b[1;32m    158\u001b[0m           \u001b[0minput_id\u001b[0m\u001b[0;34m=\u001b[0m\u001b[0minput_id\u001b[0m\u001b[0;34m,\u001b[0m \u001b[0moutput_id\u001b[0m\u001b[0;34m=\u001b[0m\u001b[0moutput_id\u001b[0m\u001b[0;34m\u001b[0m\u001b[0;34m\u001b[0m\u001b[0m\n",
            "\u001b[0;32m/usr/local/lib/python3.10/dist-packages/google/colab/output/_js.py\u001b[0m in \u001b[0;36meval_js\u001b[0;34m(script, ignore_result, timeout_sec)\u001b[0m\n\u001b[1;32m     38\u001b[0m   \u001b[0;32mif\u001b[0m \u001b[0mignore_result\u001b[0m\u001b[0;34m:\u001b[0m\u001b[0;34m\u001b[0m\u001b[0;34m\u001b[0m\u001b[0m\n\u001b[1;32m     39\u001b[0m     \u001b[0;32mreturn\u001b[0m\u001b[0;34m\u001b[0m\u001b[0;34m\u001b[0m\u001b[0m\n\u001b[0;32m---> 40\u001b[0;31m   \u001b[0;32mreturn\u001b[0m \u001b[0m_message\u001b[0m\u001b[0;34m.\u001b[0m\u001b[0mread_reply_from_input\u001b[0m\u001b[0;34m(\u001b[0m\u001b[0mrequest_id\u001b[0m\u001b[0;34m,\u001b[0m \u001b[0mtimeout_sec\u001b[0m\u001b[0;34m)\u001b[0m\u001b[0;34m\u001b[0m\u001b[0;34m\u001b[0m\u001b[0m\n\u001b[0m\u001b[1;32m     41\u001b[0m \u001b[0;34m\u001b[0m\u001b[0m\n\u001b[1;32m     42\u001b[0m \u001b[0;34m\u001b[0m\u001b[0m\n",
            "\u001b[0;32m/usr/local/lib/python3.10/dist-packages/google/colab/_message.py\u001b[0m in \u001b[0;36mread_reply_from_input\u001b[0;34m(message_id, timeout_sec)\u001b[0m\n\u001b[1;32m     94\u001b[0m     \u001b[0mreply\u001b[0m \u001b[0;34m=\u001b[0m \u001b[0m_read_next_input_message\u001b[0m\u001b[0;34m(\u001b[0m\u001b[0;34m)\u001b[0m\u001b[0;34m\u001b[0m\u001b[0;34m\u001b[0m\u001b[0m\n\u001b[1;32m     95\u001b[0m     \u001b[0;32mif\u001b[0m \u001b[0mreply\u001b[0m \u001b[0;34m==\u001b[0m \u001b[0m_NOT_READY\u001b[0m \u001b[0;32mor\u001b[0m \u001b[0;32mnot\u001b[0m \u001b[0misinstance\u001b[0m\u001b[0;34m(\u001b[0m\u001b[0mreply\u001b[0m\u001b[0;34m,\u001b[0m \u001b[0mdict\u001b[0m\u001b[0;34m)\u001b[0m\u001b[0;34m:\u001b[0m\u001b[0;34m\u001b[0m\u001b[0;34m\u001b[0m\u001b[0m\n\u001b[0;32m---> 96\u001b[0;31m       \u001b[0mtime\u001b[0m\u001b[0;34m.\u001b[0m\u001b[0msleep\u001b[0m\u001b[0;34m(\u001b[0m\u001b[0;36m0.025\u001b[0m\u001b[0;34m)\u001b[0m\u001b[0;34m\u001b[0m\u001b[0;34m\u001b[0m\u001b[0m\n\u001b[0m\u001b[1;32m     97\u001b[0m       \u001b[0;32mcontinue\u001b[0m\u001b[0;34m\u001b[0m\u001b[0;34m\u001b[0m\u001b[0m\n\u001b[1;32m     98\u001b[0m     if (\n",
            "\u001b[0;31mKeyboardInterrupt\u001b[0m: "
          ]
        }
      ]
    },
    {
      "cell_type": "code",
      "source": [
        "print(user_img)"
      ],
      "metadata": {
        "id": "82ANFfVlg41E"
      },
      "execution_count": null,
      "outputs": []
    },
    {
      "cell_type": "code",
      "source": [
        "#access file name ?\n",
        "img = cv2.imread('4fba2742-c39e-42d7-80a5-765f1f2eb6da.jpeg')\n",
        "print(img)"
      ],
      "metadata": {
        "id": "cykxA6IagcsS"
      },
      "execution_count": null,
      "outputs": []
    },
    {
      "cell_type": "code",
      "source": [
        "with mp_pose.Pose(static_image_mode=True, min_detection_confidence=0.3, model_complexity=2) as pose:\n",
        "  results = pose.process(cv2.cvtColor(img, cv2.COLOR_BGR2RGB))\n",
        "  #annotated_image = img.copy()\n",
        "  landmarks = results.pose_landmarks.landmark\n",
        "  for landmark_name in mp_pose.PoseLandmark:\n",
        "    name = str(landmark_name).replace('PoseLandmark.', '').lower()\n",
        "    exec(f'{name} = [landmarks[landmark_name].x, landmarks[landmark_name].y, landmarks[landmark_name].z]')"
      ],
      "metadata": {
        "id": "TbzMioBCX4mr"
      },
      "execution_count": null,
      "outputs": []
    },
    {
      "cell_type": "code",
      "source": [
        "user_left_knee= calculate_angle(left_hip,left_knee,left_ankle)\n",
        "user_right_knee=calculate_angle(right_hip,right_knee,right_ankle)\n",
        "user_legs= calc_angle_four_points(right_hip, right_knee, left_hip, left_knee)\n",
        "user_body=calculate_slope(right_shoulder,right_hip,\"horizontal\")\n",
        "user_turnout=calc_angle_four_points(right_heel, right_foot_index, left_heel, left_foot_index)\n",
        "\n",
        "user_right_elbow = calculate_angle(right_wrist, right_elbow, right_shoulder)\n",
        "user_left_elbow = calculate_angle(left_wrist, left_elbow, left_shoulder)\n",
        "user_right_shoulder = calculate_angle(right_hip, right_shoulder, right_elbow)\n",
        "user_left_shoulder = calc_angle_four_points(left_shoulder, left_hip, left_shoulder, left_elbow)\n",
        "\n",
        "user_plie=np.array([user_right_knee,user_left_knee,user_turnout])\n",
        "user_arabesque=np.array([user_left_knee,user_right_knee,user_legs,user_body]) # add distance between arms, position of leg compared to knee\n",
        "user_passe= np.array([user_legs,max(user_left_knee,user_right_knee),user_left_elbow,user_right_elbow,user_body])\n",
        "\n",
        "message_plie=[\" Bend your knees more!\", \" \", \"Turnout your feet:Move your heels forward wihou moving your toes\"]\n",
        "message_passe= [ \" \", \" \",\"Straighten your left elbow\",\"Straighten your right elbow\", \"Straighten your body\"]\n",
        "message_arabesque=[\"Keep your left leg straight\",\"Keep your right leg straight\",\"Lift your leg higher\", \"Lift your body\"]\n",
        "\n",
        "passe=np.array([ 90, 160.1, 83.9,164.6 ,  71.3 ])\n",
        "plie=np.array([107.8871148 ,108.03751473 ,157.55223741])\n",
        "arabesque= np.array([174.1, 179.5, 92.2, 70.5])"
      ],
      "metadata": {
        "id": "xJkFWlWbJCu1"
      },
      "execution_count": null,
      "outputs": []
    },
    {
      "cell_type": "code",
      "source": [
        "def FeedbackAngle(user_angle,alpha, beta, gama, text): #1. user_angle- calculated angle, 2. alpha- desired angle, 3.beta - okay angle, 4. gama- bad angle, text- personal feedback text\n",
        "  if (user_angle>=alpha):\n",
        "    print(\"Amazing\")\n",
        "  elif (alpha>user_angle>=beta):\n",
        "    print( text)\n",
        "  else :\n",
        "    print( text)"
      ],
      "metadata": {
        "id": "l8ot4czJJQH2"
      },
      "execution_count": null,
      "outputs": []
    },
    {
      "cell_type": "code",
      "source": [
        "#def FeedbackPasse(users, arrayPose):\n",
        "\n",
        "#  item=0\n",
        "#  for ang in arrayPose:\n",
        "#   if(item==0):\n",
        "#    FeedbackAngle(users[item],0.95*ang,0.8*ang,0.7*ang,message_passe[item]) # angle between legs\n",
        "#   if(item==2 or item==3):\n",
        "#     FeedbackAngle(users[item], 0.9*ang,0.8*ang,0.7*ang,message_passe[item])\n",
        "#   item=item+1"
      ],
      "metadata": {
        "id": "fy54-gX8Jj5k"
      },
      "execution_count": null,
      "outputs": []
    },
    {
      "cell_type": "code",
      "source": [
        "def FeedbackPasse(users, arrayPose):\n",
        "  item = 0\n",
        "  for ang in arrayPose:\n",
        "    FeedbackAngle(users[item], 0.9*ang, 0.8*ang, 0.7*ang, message_passe[item])\n",
        "    item = item + 1"
      ],
      "metadata": {
        "id": "d5BXkyF1KfNw"
      },
      "execution_count": null,
      "outputs": []
    },
    {
      "cell_type": "code",
      "source": [
        "#def FeedbackPlie(users, arrayPose):\n",
        "#\n",
        "#  item=0\n",
        "#  for ang in arrayPose:\n",
        "#   if(item==0):\n",
        "#    if( users[item]>plie[item]):\n",
        "#     print(message_plie[item])\n",
        "#\n",
        "#   if(item==2):\n",
        "#     FeedbackAngle(users[item], 0.9*ang,0.8*ang,0.7*ang,message_passe[item])\n",
        "#   item=item+1"
      ],
      "metadata": {
        "id": "WdfI_hD9JtGH"
      },
      "execution_count": null,
      "outputs": []
    },
    {
      "cell_type": "code",
      "source": [
        "def FeedbackPlie(users, arrayPose):\n",
        "  item = 0\n",
        "  for ang in arrayPose:\n",
        "    FeedbackAngle(users[item], 0.9*ang, 0.8*ang, 0.7*ang, message_plie[item])\n",
        "    item = item + 1"
      ],
      "metadata": {
        "id": "tlt9uHcTaFgz"
      },
      "execution_count": null,
      "outputs": []
    },
    {
      "cell_type": "code",
      "source": [
        "def FeedbackArabesque(users, arrayPose):\n",
        "  item = 0\n",
        "  for ang in arrayPose:\n",
        "    FeedbackAngle(users[item], 0.9*ang, 0.8*ang, 0.7*ang, message_arabesque[item])\n",
        "    item = item + 1"
      ],
      "metadata": {
        "id": "JShrzMK3ZwTa"
      },
      "execution_count": null,
      "outputs": []
    },
    {
      "cell_type": "code",
      "source": [
        "# Feedback arabesque"
      ],
      "metadata": {
        "id": "EtW59jYrJtke"
      },
      "execution_count": null,
      "outputs": []
    },
    {
      "cell_type": "code",
      "source": [
        "print(user_left_knee, user_right_knee, user_legs)\n"
      ],
      "metadata": {
        "id": "tR0i1deIesWx"
      },
      "execution_count": null,
      "outputs": []
    },
    {
      "cell_type": "code",
      "source": [
        "user_array = np.array([user_left_knee, user_right_knee, user_legs])\n",
        "user_label = model.predict(user_array)\n",
        "print(user_label)"
      ],
      "metadata": {
        "id": "5m5If_CQbYMy"
      },
      "execution_count": null,
      "outputs": []
    },
    {
      "cell_type": "code",
      "source": [],
      "metadata": {
        "id": "MG_sbzuUkoPL"
      },
      "execution_count": null,
      "outputs": []
    }
  ]
}